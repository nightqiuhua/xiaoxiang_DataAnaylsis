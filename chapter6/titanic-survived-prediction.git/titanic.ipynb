{
 "cells": [
  {
   "cell_type": "markdown",
   "metadata": {},
   "source": [
    "# 小象学院实践课\n",
    "## 集成学习\n",
    "## 泰坦尼克号幸存者预测"
   ]
  },
  {
   "cell_type": "markdown",
   "metadata": {},
   "source": [
    "欢迎来到小象学院实践课！在此文件中，有些示例代码已经提供给你，但你还需要实现更多的功能让项目成功运行。除非有明确要求，你无须修改任何已给出的代码。以**'练习'**开始的标题表示接下来的代码部分中有你必须要实现的功能。每一部分都会有详细的指导，需要实现的部分也会在注释中以'TODO'标出。请仔细阅读所有的提示！\n",
    "\n",
    "除了实现代码外，你还必须回答一些与项目和你的实现有关的问题。每一个需要你回答的问题都会以**'问题 X'**为标题。请仔细阅读每个问题，并且在问题后的**'回答'**文字框中写出完整的答案。我们将根据你对问题的回答和撰写代码所实现的功能来对你提交的项目进行评分。\n",
    ">**提示：**Code 和 Markdown 区域可通过**Shift + Enter**快捷键运行。此外，Markdown可以通过双击进入编辑模式\n",
    "\n"
   ]
  },
  {
   "cell_type": "markdown",
   "metadata": {},
   "source": [
    "## 开始\n",
    "泰坦尼克号的沉没是历史上最臭名昭着的沉船之一。 1912年4月15日，在她的第一次航行中，泰坦尼克号在与冰山相撞后沉没，在2224名乘客和机组人员中造成1502人死亡。造成海难失事的原因之一是乘客和机组人员没有足够的救生艇。 尽管幸存生存下来有一些运气因素，但有些人比其他人更容易生存，比如女人，孩子和上流社会。\n",
    "\n",
    "在这个挑战中，我们要求您完成对哪些人可能存活的分析，我们要求您运用机器学习工具来预测哪些乘客幸免于悲剧。\n",
    "\n",
    "> 数据集出自Kaggle. (https://www.kaggle.com/c/titanic) 在完成作业后，同学们可以将自己的结果在该页面提交来检验效果。"
   ]
  },
  {
   "cell_type": "markdown",
   "metadata": {},
   "source": [
    "----\n",
    "## 探索数据\n",
    "\n",
    "### 数据载入\n",
    "运行下面的代码单元以载入需要的Python库并导入数据。注意数据集的`'Survived'`将是我们需要预测的列（表示乘客是否存活，1为是，0为否），数据中的其他每一列都将是关于乘客的特征。"
   ]
  },
  {
   "cell_type": "code",
   "execution_count": 1,
   "metadata": {},
   "outputs": [
    {
     "name": "stdout",
     "output_type": "stream",
     "text": [
      "(891, 12)\n",
      "(418, 11)\n"
     ]
    }
   ],
   "source": [
    "import numpy as np \n",
    "import pandas as pd \n",
    "import seaborn as sns\n",
    "import matplotlib.pyplot as plt\n",
    "from sklearn.model_selection import train_test_split\n",
    "from sklearn.metrics import f1_score\n",
    "from sklearn.preprocessing import MinMaxScaler \n",
    "from sklearn.decomposition import PCA\n",
    "from sklearn.svm import SVC\n",
    "from sklearn.model_selection import GridSearchCV\n",
    "import xgboost as xgb\n",
    "from xgboost.sklearn import XGBClassifier\n",
    "from sklearn.ensemble import GradientBoostingClassifier\n",
    "import warnings\n",
    "warnings.filterwarnings('ignore')\n",
    "\n",
    "# train.csv中为训练数据，用于训练和效果检测\n",
    "train = pd.read_csv('./all/train.csv')\n",
    "y = train['Survived']\n",
    "\n",
    "# test.csv为已经去除Survived列的数据，使用训练好的模型对其进行拟合，将结果提交即可完成Kaggle任务\n",
    "test = pd.read_csv('./all/test.csv')\n",
    "\n",
    "# 查看一下训练和测试数据大小分别是多少\n",
    "print(train.shape)\n",
    "print(test.shape)"
   ]
  },
  {
   "cell_type": "markdown",
   "metadata": {},
   "source": [
    "查看一下训练数据："
   ]
  },
  {
   "cell_type": "code",
   "execution_count": 2,
   "metadata": {
    "scrolled": true
   },
   "outputs": [
    {
     "data": {
      "text/html": [
       "<div>\n",
       "<style scoped>\n",
       "    .dataframe tbody tr th:only-of-type {\n",
       "        vertical-align: middle;\n",
       "    }\n",
       "\n",
       "    .dataframe tbody tr th {\n",
       "        vertical-align: top;\n",
       "    }\n",
       "\n",
       "    .dataframe thead th {\n",
       "        text-align: right;\n",
       "    }\n",
       "</style>\n",
       "<table border=\"1\" class=\"dataframe\">\n",
       "  <thead>\n",
       "    <tr style=\"text-align: right;\">\n",
       "      <th></th>\n",
       "      <th>PassengerId</th>\n",
       "      <th>Survived</th>\n",
       "      <th>Pclass</th>\n",
       "      <th>Name</th>\n",
       "      <th>Sex</th>\n",
       "      <th>Age</th>\n",
       "      <th>SibSp</th>\n",
       "      <th>Parch</th>\n",
       "      <th>Ticket</th>\n",
       "      <th>Fare</th>\n",
       "      <th>Cabin</th>\n",
       "      <th>Embarked</th>\n",
       "    </tr>\n",
       "  </thead>\n",
       "  <tbody>\n",
       "    <tr>\n",
       "      <th>0</th>\n",
       "      <td>1</td>\n",
       "      <td>0</td>\n",
       "      <td>3</td>\n",
       "      <td>Braund, Mr. Owen Harris</td>\n",
       "      <td>male</td>\n",
       "      <td>22.0</td>\n",
       "      <td>1</td>\n",
       "      <td>0</td>\n",
       "      <td>A/5 21171</td>\n",
       "      <td>7.2500</td>\n",
       "      <td>NaN</td>\n",
       "      <td>S</td>\n",
       "    </tr>\n",
       "    <tr>\n",
       "      <th>1</th>\n",
       "      <td>2</td>\n",
       "      <td>1</td>\n",
       "      <td>1</td>\n",
       "      <td>Cumings, Mrs. John Bradley (Florence Briggs Th...</td>\n",
       "      <td>female</td>\n",
       "      <td>38.0</td>\n",
       "      <td>1</td>\n",
       "      <td>0</td>\n",
       "      <td>PC 17599</td>\n",
       "      <td>71.2833</td>\n",
       "      <td>C85</td>\n",
       "      <td>C</td>\n",
       "    </tr>\n",
       "    <tr>\n",
       "      <th>2</th>\n",
       "      <td>3</td>\n",
       "      <td>1</td>\n",
       "      <td>3</td>\n",
       "      <td>Heikkinen, Miss. Laina</td>\n",
       "      <td>female</td>\n",
       "      <td>26.0</td>\n",
       "      <td>0</td>\n",
       "      <td>0</td>\n",
       "      <td>STON/O2. 3101282</td>\n",
       "      <td>7.9250</td>\n",
       "      <td>NaN</td>\n",
       "      <td>S</td>\n",
       "    </tr>\n",
       "    <tr>\n",
       "      <th>3</th>\n",
       "      <td>4</td>\n",
       "      <td>1</td>\n",
       "      <td>1</td>\n",
       "      <td>Futrelle, Mrs. Jacques Heath (Lily May Peel)</td>\n",
       "      <td>female</td>\n",
       "      <td>35.0</td>\n",
       "      <td>1</td>\n",
       "      <td>0</td>\n",
       "      <td>113803</td>\n",
       "      <td>53.1000</td>\n",
       "      <td>C123</td>\n",
       "      <td>S</td>\n",
       "    </tr>\n",
       "    <tr>\n",
       "      <th>4</th>\n",
       "      <td>5</td>\n",
       "      <td>0</td>\n",
       "      <td>3</td>\n",
       "      <td>Allen, Mr. William Henry</td>\n",
       "      <td>male</td>\n",
       "      <td>35.0</td>\n",
       "      <td>0</td>\n",
       "      <td>0</td>\n",
       "      <td>373450</td>\n",
       "      <td>8.0500</td>\n",
       "      <td>NaN</td>\n",
       "      <td>S</td>\n",
       "    </tr>\n",
       "  </tbody>\n",
       "</table>\n",
       "</div>"
      ],
      "text/plain": [
       "   PassengerId  Survived  Pclass  \\\n",
       "0            1         0       3   \n",
       "1            2         1       1   \n",
       "2            3         1       3   \n",
       "3            4         1       1   \n",
       "4            5         0       3   \n",
       "\n",
       "                                                Name     Sex   Age  SibSp  \\\n",
       "0                            Braund, Mr. Owen Harris    male  22.0      1   \n",
       "1  Cumings, Mrs. John Bradley (Florence Briggs Th...  female  38.0      1   \n",
       "2                             Heikkinen, Miss. Laina  female  26.0      0   \n",
       "3       Futrelle, Mrs. Jacques Heath (Lily May Peel)  female  35.0      1   \n",
       "4                           Allen, Mr. William Henry    male  35.0      0   \n",
       "\n",
       "   Parch            Ticket     Fare Cabin Embarked  \n",
       "0      0         A/5 21171   7.2500   NaN        S  \n",
       "1      0          PC 17599  71.2833   C85        C  \n",
       "2      0  STON/O2. 3101282   7.9250   NaN        S  \n",
       "3      0            113803  53.1000  C123        S  \n",
       "4      0            373450   8.0500   NaN        S  "
      ]
     },
     "execution_count": 2,
     "metadata": {},
     "output_type": "execute_result"
    }
   ],
   "source": [
    "train.head()"
   ]
  },
  {
   "cell_type": "markdown",
   "metadata": {},
   "source": [
    "可以看到我们有如下几个特征:\n",
    "* Age：年龄\n",
    "* Cabin：舱位号码\n",
    "* Embarked：上船港口\n",
    "* Fare：票价\n",
    "* Name：名字\n",
    "* Parch：直系亲属\n",
    "* PassengerId：用户编号\n",
    "* Pclass：舱位等级\n",
    "* Sex：性别\n",
    "* SibSp：旁系亲属\n",
    "* Survived: 是否存活\n",
    "* Ticket：票号\n"
   ]
  },
  {
   "cell_type": "markdown",
   "metadata": {},
   "source": [
    "### 特征与目标相关性\n",
    "\n",
    "数据特征数不多，接下来我们尝试构建一个函数，通过绘制柱形图展示出类别型特征与目标特征之间的关系。"
   ]
  },
  {
   "cell_type": "code",
   "execution_count": 3,
   "metadata": {},
   "outputs": [
    {
     "data": {
      "text/plain": [
       "<Figure size 720x288 with 0 Axes>"
      ]
     },
     "metadata": {},
     "output_type": "display_data"
    }
   ],
   "source": [
    "import matplotlib.pyplot as plt\n",
    "\n",
    "# 定义画布尺寸\n",
    "plt.figure(figsize=(10, 4))\n",
    "\n",
    "def showSurvivalRate(df, column_name):\n",
    "    \"\"\"\n",
    "        通过柱形图展示数据特征与目标特征之间的关系。\n",
    "        横坐标为希望考察的特征属性，纵坐标为生存率。\n",
    "        \n",
    "        输入参数：\n",
    "        df：需要考察的数据，存储类型为DataFrame\n",
    "        column_name: 需要考察的属性名字。\n",
    "    \"\"\"\n",
    "    \n",
    "    # TODO\n",
    "    # 构建一个dataframe类型的结果result_df。\n",
    "    # result_df由两列组成，一列由参数df中的名为column_name的列的可能取值组成；另一列，名为'Survival Rate'，是该取值所对应的存活率。\n",
    "    # 比如当输入column_name为'Pclass'时，计算出的result_df结果为（第一列列名与传入的列名column_name相同，第二列列名为'Survival Rate'）：\n",
    "    #   Pclass  Survival Rate\n",
    "    #        1  0.629630\n",
    "    #        2  0.472826\n",
    "    #        3  0.242363\n",
    "    # 表示不同等级仓位旅客的存活率\n",
    "    \n",
    "    d = df[[column_name,'Survived']]\n",
    "    d.dropna(inplace=True) #index是行数，col是两个列名\n",
    "    idx = list(d[column_name].value_counts().index) #新的dataframe的第一列\n",
    "    sr = list()\n",
    "    for i in range(len(idx)):\n",
    "        x = d[d[column_name]==idx[i]]\n",
    "        sr.append(x['Survived'].sum()/x.shape[0])\n",
    "    new = np.hstack([np.array(idx).reshape(-1,1),np.array(sr).reshape(-1,1)])\n",
    "    results_df = pd.DataFrame(new,columns=[column_name,'Survival Rate'])\n",
    "    results_df['Survival Rate'] = pd.to_numeric(results_df['Survival Rate']) \n",
    "    # 绘制柱形图\n",
    "    results_df.plot(y=['Survival Rate'], kind='bar', title=\"Survival Rate\", legend=False)\n",
    "    plt.show()"
   ]
  },
  {
   "cell_type": "markdown",
   "metadata": {},
   "source": [
    "接下来我们来看一下各个特征对于最终存活率的影响吧。 我们先从类别型属性开始："
   ]
  },
  {
   "cell_type": "code",
   "execution_count": 4,
   "metadata": {},
   "outputs": [
    {
     "data": {
      "image/png": "[encoded data removed]",
      "text/plain": [
       "<Figure size 432x288 with 1 Axes>"
      ]
     },
     "metadata": {
      "needs_background": "light"
     },
     "output_type": "display_data"
    },
    {
     "data": {
      "image/png": "[encoded data removed]",
      "text/plain": [
       "<Figure size 432x288 with 1 Axes>"
      ]
     },
     "metadata": {
      "needs_background": "light"
     },
     "output_type": "display_data"
    },
    {
     "data": {
      "image/png": "[encoded data removed]",
      "text/plain": [
       "<Figure size 432x288 with 1 Axes>"
      ]
     },
     "metadata": {
      "needs_background": "light"
     },
     "output_type": "display_data"
    },
    {
     "data": {
      "image/png": "[encoded data removed]",
      "text/plain": [
       "<Figure size 432x288 with 1 Axes>"
      ]
     },
     "metadata": {
      "needs_background": "light"
     },
     "output_type": "display_data"
    },
    {
     "data": {
      "image/png": "[encoded data removed]",
      "text/plain": [
       "<Figure size 432x288 with 1 Axes>"
      ]
     },
     "metadata": {
      "needs_background": "light"
     },
     "output_type": "display_data"
    },
    {
     "data": {
      "image/png": "[encoded data removed]",
      "text/plain": [
       "<Figure size 432x288 with 1 Axes>"
      ]
     },
     "metadata": {
      "needs_background": "light"
     },
     "output_type": "display_data"
    }
   ],
   "source": [
    "# 获取所有数据列的名字\n",
    "columns = train.columns.values.tolist()\n",
    "\n",
    "# 排除目标列\n",
    "columns.remove('Survived')\n",
    "\n",
    "# 去除连续特征Age和Fare\n",
    "columns.remove('Age')\n",
    "columns.remove('Fare')\n",
    "\n",
    "# 从直觉判断上，我们认为名字、PassengerId（用户ID）、Ticket（票号）这些是每个人都不同的随机属性，与结果关系不大，先将它们也排除\n",
    "columns.remove('PassengerId')\n",
    "columns.remove('Ticket')\n",
    "columns.remove('Name')\n",
    "\n",
    "# 调用showSurvivalRate绘制柱形图，观察各属性与Survived的关系\n",
    "for item in columns:\n",
    "    showSurvivalRate(train, item)\n"
   ]
  },
  {
   "cell_type": "markdown",
   "metadata": {},
   "source": [
    "留意绘制的图形，绝大部分特征不同取值所对应的生存率都有明显的差别，将它们作为预测Survived的依据应该比较可靠。\n",
    "\n",
    "唯一例外的，我们关注一下属性Cabin（仓位号码）。可能对豪华邮轮的仓位不太熟悉，我们一开始以为仓位号码是每位乘客都不一样，这样它将与PassengerId一样，不具备可预测目标属性的区分度。"
   ]
  },
  {
   "cell_type": "markdown",
   "metadata": {},
   "source": [
    "**问题： ** 从图中，你是否能判断出Cabin属性不是每位乘客都不相同？理由是？\n",
    "\n",
    "\n",
    "能判断出不是每位乘客都不一样。因为如果每位乘客都不一样的话，生存率非1即0，不存在中间值。"
   ]
  },
  {
   "cell_type": "markdown",
   "metadata": {},
   "source": [
    "我们对Cabin中生存率大于零小于一的那些乘客做下观察："
   ]
  },
  {
   "cell_type": "code",
   "execution_count": 5,
   "metadata": {},
   "outputs": [
    {
     "name": "stdout",
     "output_type": "stream",
     "text": [
      "G6\n",
      "C23 C25 C27\n",
      "C22 C26\n",
      "D\n",
      "F2\n",
      "E67\n",
      "B51 B53 B55\n",
      "C123\n",
      "C68\n",
      "C2\n",
      "B58 B60\n",
      "C78\n",
      "E44\n",
      "B22\n",
      "C65\n",
      "C83\n"
     ]
    }
   ],
   "source": [
    "# TODO\n",
    "# 将不同Cabin所对应的生存率计算出来，并存储在DataFrame类型的变量rate中\n",
    "d = train[['Cabin','Survived']]\n",
    "d.dropna(inplace=True) #index是行数，col是两个列名\n",
    "idx = list(d['Cabin'].value_counts().index) #新的dataframe的第一列\n",
    "sr = list()\n",
    "for i in range(len(idx)):\n",
    "    x = d[d['Cabin']==idx[i]]\n",
    "    sr.append(x['Survived'].sum()/x.shape[0])\n",
    "new = np.hstack([np.array(idx).reshape(-1,1),np.array(sr).reshape(-1,1)])\n",
    "rate = pd.DataFrame(new,columns=['Cabin','Survival Rate'])\n",
    "rate['Survival Rate'] = pd.to_numeric(rate['Survival Rate'])\n",
    "# TODO\n",
    "# 遍历rate中的元素，将Survived大于零小于1的项打印出来\n",
    "for idx, series in rate.iterrows():\n",
    "    if series[1]>0 and series[1]<1: print(series[0])"
   ]
  },
  {
   "cell_type": "markdown",
   "metadata": {},
   "source": [
    "观察下输出结果，我们打印一下Cabin为E44的那些乘客的信息："
   ]
  },
  {
   "cell_type": "code",
   "execution_count": 6,
   "metadata": {},
   "outputs": [
    {
     "name": "stdout",
     "output_type": "stream",
     "text": [
      "G6:\n",
      "      PassengerId  Survived  Pclass  \\\n",
      "10            11         1       3   \n",
      "205          206         0       3   \n",
      "251          252         0       3   \n",
      "394          395         1       3   \n",
      "\n",
      "                                                  Name     Sex   Age  SibSp  \\\n",
      "10                     Sandstrom, Miss. Marguerite Rut  female   4.0      1   \n",
      "205                         Strom, Miss. Telma Matilda  female   2.0      0   \n",
      "251         Strom, Mrs. Wilhelm (Elna Matilda Persson)  female  29.0      1   \n",
      "394  Sandstrom, Mrs. Hjalmar (Agnes Charlotta Bengt...  female  24.0      0   \n",
      "\n",
      "     Parch   Ticket     Fare Cabin Embarked  \n",
      "10       1  PP 9549  16.7000    G6        S  \n",
      "205      1   347054  10.4625    G6        S  \n",
      "251      1   347054  10.4625    G6        S  \n",
      "394      2  PP 9549  16.7000    G6        S   \n",
      "\n",
      "\n",
      "E44:\n",
      "      PassengerId  Survived  Pclass                                       Name  \\\n",
      "434          435         0       1                  Silvey, Mr. William Baird   \n",
      "577          578         1       1  Silvey, Mrs. William Baird (Alice Munger)   \n",
      "\n",
      "        Sex   Age  SibSp  Parch Ticket  Fare Cabin Embarked  \n",
      "434    male  50.0      1      0  13507  55.9   E44        S  \n",
      "577  female  39.0      1      0  13507  55.9   E44        S  \n"
     ]
    }
   ],
   "source": [
    "# TODO\n",
    "# 打印一下Cabin为G6的那些乘客的信息\n",
    "print(\"G6:\\n\",train[train['Cabin']=='G6'],'\\n\\n')\n",
    "\n",
    "print(\"E44:\\n\",train[train['Cabin']=='E44'])"
   ]
  },
  {
   "cell_type": "markdown",
   "metadata": {},
   "source": [
    "首先我们了解了同个仓位中可以有多名乘客，然后，通过他们的Name，不难判断这是一对夫妻。\n",
    "\n",
    "从这里，我们得到启示：\n",
    "\n",
    "1. 在test集数据中，Cabin应是另外一批值，直接使用Cabin作为训练属性没什么意义。\n",
    "\n",
    "2. 从E44这个例子看，Name这个字段应该还是有意义的，它第一个逗号之后的title（例子中是Mrs., Mr.）可能也是可以考虑的影响是否生存的因素。"
   ]
  },
  {
   "cell_type": "markdown",
   "metadata": {},
   "source": [
    "接下来，我们考察名字中的title和存活率之间的关系："
   ]
  },
  {
   "cell_type": "code",
   "execution_count": 7,
   "metadata": {},
   "outputs": [
    {
     "data": {
      "image/png": "[encoded data removed]",
      "text/plain": [
       "<Figure size 432x288 with 1 Axes>"
      ]
     },
     "metadata": {
      "needs_background": "light"
     },
     "output_type": "display_data"
    }
   ],
   "source": [
    "# TODO\n",
    "# 实现一个函数get_title,将title（名字第一个逗号后以点结尾的部分）提取出来\n",
    "def get_title(name):\n",
    "    name_ = name.str.split(',.')\n",
    "    name_ = name.str.split()\n",
    "    name_ = list(name_)\n",
    "    name_ = [name_[i][1] for i in range(len(name_))]\n",
    "    return pd.Series(name_)\n",
    "\n",
    "# 显示Title与存活率的关系\n",
    "old_title_df = pd.DataFrame()\n",
    "old_title_df['Survived'] = train['Survived']\n",
    "old_title_df['Title'] = get_title(train['Name'])\n",
    "\n",
    "showSurvivalRate(old_title_df, 'Title')"
   ]
  },
  {
   "cell_type": "markdown",
   "metadata": {},
   "source": [
    "对于Title，还有些情况需要我们考虑，先看下Title的取值："
   ]
  },
  {
   "cell_type": "code",
   "execution_count": 8,
   "metadata": {},
   "outputs": [
    {
     "data": {
      "text/plain": [
       "Mr.             502\n",
       "Miss.           179\n",
       "Mrs.            121\n",
       "Master.          40\n",
       "Dr.               7\n",
       "Rev.              6\n",
       "y                 4\n",
       "Planke,           3\n",
       "Impe,             3\n",
       "Col.              2\n",
       "Major.            2\n",
       "Mlle.             2\n",
       "Gordon,           2\n",
       "Mme.              1\n",
       "Velde,            1\n",
       "Pelsmaeker,       1\n",
       "Don.              1\n",
       "der               1\n",
       "Steen,            1\n",
       "Ms.               1\n",
       "Shawah,           1\n",
       "Billiard,         1\n",
       "Cruyssen,         1\n",
       "the               1\n",
       "Messemaeker,      1\n",
       "Mulder,           1\n",
       "Carlo,            1\n",
       "Jonkheer.         1\n",
       "Capt.             1\n",
       "Walle,            1\n",
       "Melkebeke,        1\n",
       "Name: Title, dtype: int64"
      ]
     },
     "execution_count": 8,
     "metadata": {},
     "output_type": "execute_result"
    }
   ],
   "source": [
    "old_title_df['Title'].value_counts()\n"
   ]
  },
  {
   "cell_type": "markdown",
   "metadata": {},
   "source": [
    "重新定义函数get_title_optimize，对于那些出现次数少于10的title统一称为Misc，大于10次的保留原来函数get_title相同的逻辑："
   ]
  },
  {
   "cell_type": "code",
   "execution_count": 9,
   "metadata": {},
   "outputs": [
    {
     "name": "stdout",
     "output_type": "stream",
     "text": [
      "Mr.        502\n",
      "Miss.      179\n",
      "Mrs.       121\n",
      "Misc        49\n",
      "Master.     40\n",
      "Name: Title, dtype: int64\n"
     ]
    },
    {
     "data": {
      "image/png": "[encoded data removed]",
      "text/plain": [
       "<Figure size 432x288 with 1 Axes>"
      ]
     },
     "metadata": {
      "needs_background": "light"
     },
     "output_type": "display_data"
    }
   ],
   "source": [
    "# TODO\n",
    "# 定义函数get_title_optimize,将title（名字第一个逗号后以点结尾的部分）提取出来。\n",
    "# 同时，如果title在输入数据集name中出现的次数小于10，统一称为Misc\n",
    "def get_title_optimize(name):\n",
    "    name_ = name.str.split(',.')\n",
    "    name_ = name.str.split()\n",
    "    name_ = list(name_)\n",
    "    name_ = [name_[i][1] for i in range(len(name_))]\n",
    "    name_cnt = pd.Series(name_).value_counts()\n",
    "    new_name = list()\n",
    "    for n in name_:\n",
    "        if name_cnt[n]>10:\n",
    "            new_name.append(n)\n",
    "        else:\n",
    "            new_name.append('Misc')\n",
    "    return pd.Series(new_name)\n",
    "\n",
    "# 显示Title与存活率的关系\n",
    "title_df = pd.DataFrame()\n",
    "title_df['Survived'] = train['Survived']\n",
    "title_df['Title'] = get_title_optimize(train['Name'])\n",
    "print(title_df['Title'].value_counts())\n",
    "showSurvivalRate(title_df, 'Title')"
   ]
  },
  {
   "cell_type": "markdown",
   "metadata": {},
   "source": [
    "### 定义类别属性处理函数\n",
    "\n",
    "至此，总结以上的探索结论，我们定义一个类别属性处理函数。函数所要进行的操作是：\n",
    "\n",
    "1. 生成一个新列，名为Title，该列值通过调用函数get_title_optimize得到（Title是将Name中的第一个逗号之后的，点之前的部分提取出来，如果在整个列中，某个Title出现总数小于10，将其命名为Misc）。\n",
    "\n",
    "2. 去除无关的属性列'PassengerId'、'Ticket'、'Name'、'Cabin'。\n",
    "\n",
    "3. 对各属性进行独热编码。"
   ]
  },
  {
   "cell_type": "code",
   "execution_count": 10,
   "metadata": {},
   "outputs": [
    {
     "data": {
      "text/html": [
       "<div>\n",
       "<style scoped>\n",
       "    .dataframe tbody tr th:only-of-type {\n",
       "        vertical-align: middle;\n",
       "    }\n",
       "\n",
       "    .dataframe tbody tr th {\n",
       "        vertical-align: top;\n",
       "    }\n",
       "\n",
       "    .dataframe thead th {\n",
       "        text-align: right;\n",
       "    }\n",
       "</style>\n",
       "<table border=\"1\" class=\"dataframe\">\n",
       "  <thead>\n",
       "    <tr style=\"text-align: right;\">\n",
       "      <th></th>\n",
       "      <th>Survived</th>\n",
       "      <th>Pclass</th>\n",
       "      <th>Age</th>\n",
       "      <th>SibSp</th>\n",
       "      <th>Parch</th>\n",
       "      <th>Fare</th>\n",
       "      <th>Sex_female</th>\n",
       "      <th>Sex_male</th>\n",
       "      <th>Embarked_C</th>\n",
       "      <th>Embarked_Q</th>\n",
       "      <th>Embarked_S</th>\n",
       "      <th>Title_Master.</th>\n",
       "      <th>Title_Misc</th>\n",
       "      <th>Title_Miss.</th>\n",
       "      <th>Title_Mr.</th>\n",
       "      <th>Title_Mrs.</th>\n",
       "    </tr>\n",
       "  </thead>\n",
       "  <tbody>\n",
       "    <tr>\n",
       "      <th>0</th>\n",
       "      <td>0</td>\n",
       "      <td>3</td>\n",
       "      <td>22.0</td>\n",
       "      <td>1</td>\n",
       "      <td>0</td>\n",
       "      <td>7.2500</td>\n",
       "      <td>0</td>\n",
       "      <td>1</td>\n",
       "      <td>0</td>\n",
       "      <td>0</td>\n",
       "      <td>1</td>\n",
       "      <td>0</td>\n",
       "      <td>0</td>\n",
       "      <td>0</td>\n",
       "      <td>1</td>\n",
       "      <td>0</td>\n",
       "    </tr>\n",
       "    <tr>\n",
       "      <th>1</th>\n",
       "      <td>1</td>\n",
       "      <td>1</td>\n",
       "      <td>38.0</td>\n",
       "      <td>1</td>\n",
       "      <td>0</td>\n",
       "      <td>71.2833</td>\n",
       "      <td>1</td>\n",
       "      <td>0</td>\n",
       "      <td>1</td>\n",
       "      <td>0</td>\n",
       "      <td>0</td>\n",
       "      <td>0</td>\n",
       "      <td>0</td>\n",
       "      <td>0</td>\n",
       "      <td>0</td>\n",
       "      <td>1</td>\n",
       "    </tr>\n",
       "    <tr>\n",
       "      <th>2</th>\n",
       "      <td>1</td>\n",
       "      <td>3</td>\n",
       "      <td>26.0</td>\n",
       "      <td>0</td>\n",
       "      <td>0</td>\n",
       "      <td>7.9250</td>\n",
       "      <td>1</td>\n",
       "      <td>0</td>\n",
       "      <td>0</td>\n",
       "      <td>0</td>\n",
       "      <td>1</td>\n",
       "      <td>0</td>\n",
       "      <td>0</td>\n",
       "      <td>1</td>\n",
       "      <td>0</td>\n",
       "      <td>0</td>\n",
       "    </tr>\n",
       "    <tr>\n",
       "      <th>3</th>\n",
       "      <td>1</td>\n",
       "      <td>1</td>\n",
       "      <td>35.0</td>\n",
       "      <td>1</td>\n",
       "      <td>0</td>\n",
       "      <td>53.1000</td>\n",
       "      <td>1</td>\n",
       "      <td>0</td>\n",
       "      <td>0</td>\n",
       "      <td>0</td>\n",
       "      <td>1</td>\n",
       "      <td>0</td>\n",
       "      <td>0</td>\n",
       "      <td>0</td>\n",
       "      <td>0</td>\n",
       "      <td>1</td>\n",
       "    </tr>\n",
       "    <tr>\n",
       "      <th>4</th>\n",
       "      <td>0</td>\n",
       "      <td>3</td>\n",
       "      <td>35.0</td>\n",
       "      <td>0</td>\n",
       "      <td>0</td>\n",
       "      <td>8.0500</td>\n",
       "      <td>0</td>\n",
       "      <td>1</td>\n",
       "      <td>0</td>\n",
       "      <td>0</td>\n",
       "      <td>1</td>\n",
       "      <td>0</td>\n",
       "      <td>0</td>\n",
       "      <td>0</td>\n",
       "      <td>1</td>\n",
       "      <td>0</td>\n",
       "    </tr>\n",
       "  </tbody>\n",
       "</table>\n",
       "</div>"
      ],
      "text/plain": [
       "   Survived  Pclass   Age  SibSp  Parch     Fare  Sex_female  Sex_male  \\\n",
       "0         0       3  22.0      1      0   7.2500           0         1   \n",
       "1         1       1  38.0      1      0  71.2833           1         0   \n",
       "2         1       3  26.0      0      0   7.9250           1         0   \n",
       "3         1       1  35.0      1      0  53.1000           1         0   \n",
       "4         0       3  35.0      0      0   8.0500           0         1   \n",
       "\n",
       "   Embarked_C  Embarked_Q  Embarked_S  Title_Master.  Title_Misc  Title_Miss.  \\\n",
       "0           0           0           1              0           0            0   \n",
       "1           1           0           0              0           0            0   \n",
       "2           0           0           1              0           0            1   \n",
       "3           0           0           1              0           0            0   \n",
       "4           0           0           1              0           0            0   \n",
       "\n",
       "   Title_Mr.  Title_Mrs.  \n",
       "0          1           0  \n",
       "1          0           1  \n",
       "2          0           0  \n",
       "3          0           1  \n",
       "4          1           0  "
      ]
     },
     "execution_count": 10,
     "metadata": {},
     "output_type": "execute_result"
    }
   ],
   "source": [
    "def handle_categorical_feature(data):\n",
    "    \"\"\"\n",
    "        类别型属性处理函数。\n",
    "        完成功能：\n",
    "        1. 生成一个新列，名为Title，该列值通过调用函数get_title_optimize得到（Title是将Name中的第一个逗号之后的，点之前的部分提取出来，如果在整个列中，某个Title出现总数小于10，将其命名为Misc）。\n",
    "        2. 去除无关的属性列'PassengerId'、'Ticket'、'Name'、'Cabin'。\n",
    "        3. 对各属性进行独热编码。\n",
    "        \n",
    "        所有的操作不改变输入参数data原先所指向数据结构的内容。\n",
    "        \n",
    "        输入参数：\n",
    "        data：需要处理的DataFrame类型数据\n",
    "        \n",
    "        输出：\n",
    "        经过如上处理之后的DataFrame数据（新生成的数据结构，不改变输出变量data的内容）。\n",
    "    \"\"\"\n",
    "    # TODO\n",
    "    # 定义类别属性处理函数handle_categorical_feature的以上逻辑\n",
    "    new_data = pd.DataFrame(data)\n",
    "    new_data['Title'] = get_title_optimize(new_data['Name'])\n",
    "    new_data.drop(columns=['Name','PassengerId','Ticket','Name','Cabin'],inplace=True)\n",
    "    new_data = pd.get_dummies(new_data)\n",
    "    return new_data\n",
    "\n",
    "a = handle_categorical_feature(train)\n",
    "a.head()"
   ]
  },
  {
   "cell_type": "markdown",
   "metadata": {},
   "source": [
    "### 处理数值型属性\n",
    "\n",
    "数据中的数值型属性是'Age'和'Fare'，考察一下它们的分布："
   ]
  },
  {
   "cell_type": "code",
   "execution_count": 11,
   "metadata": {},
   "outputs": [
    {
     "data": {
      "text/plain": [
       "<matplotlib.axes._subplots.AxesSubplot at 0x110d73940>"
      ]
     },
     "execution_count": 11,
     "metadata": {},
     "output_type": "execute_result"
    },
    {
     "data": {
      "image/png": "[encoded data removed]",
      "text/plain": [
       "<Figure size 432x288 with 1 Axes>"
      ]
     },
     "metadata": {
      "needs_background": "light"
     },
     "output_type": "display_data"
    }
   ],
   "source": [
    "# 绘制Age的取值分布图\n",
    "train['Age'].plot(kind = 'kde')"
   ]
  },
  {
   "cell_type": "code",
   "execution_count": 12,
   "metadata": {},
   "outputs": [
    {
     "data": {
      "text/plain": [
       "<matplotlib.axes._subplots.AxesSubplot at 0x11108ca58>"
      ]
     },
     "execution_count": 12,
     "metadata": {},
     "output_type": "execute_result"
    },
    {
     "data": {
      "image/png": "[encoded data removed]",
      "text/plain": [
       "<Figure size 432x288 with 1 Axes>"
      ]
     },
     "metadata": {
      "needs_background": "light"
     },
     "output_type": "display_data"
    }
   ],
   "source": [
    "# 绘制Fare的分布图\n",
    "train['Fare'].plot(kind = 'kde')"
   ]
  },
  {
   "cell_type": "markdown",
   "metadata": {},
   "source": [
    "根据对取值分布的观察，定义一个函数handle_number_feature，完成功能：\n",
    "\n",
    "1. 对输入dataframe中的'Age'及'Fare'列进行正态标准化处理（使用StandardScaler），生成新的列数据分别命名为'Age_scal'、'Fare_scal'。\n",
    "\n",
    "2. 将标准化处理之后的结果列与输入的数据拼接，并将原有的Age和Fare列删除。"
   ]
  },
  {
   "cell_type": "code",
   "execution_count": 13,
   "metadata": {},
   "outputs": [
    {
     "data": {
      "text/html": [
       "<div>\n",
       "<style scoped>\n",
       "    .dataframe tbody tr th:only-of-type {\n",
       "        vertical-align: middle;\n",
       "    }\n",
       "\n",
       "    .dataframe tbody tr th {\n",
       "        vertical-align: top;\n",
       "    }\n",
       "\n",
       "    .dataframe thead th {\n",
       "        text-align: right;\n",
       "    }\n",
       "</style>\n",
       "<table border=\"1\" class=\"dataframe\">\n",
       "  <thead>\n",
       "    <tr style=\"text-align: right;\">\n",
       "      <th></th>\n",
       "      <th>PassengerId</th>\n",
       "      <th>Survived</th>\n",
       "      <th>Pclass</th>\n",
       "      <th>Name</th>\n",
       "      <th>Sex</th>\n",
       "      <th>SibSp</th>\n",
       "      <th>Parch</th>\n",
       "      <th>Ticket</th>\n",
       "      <th>Cabin</th>\n",
       "      <th>Embarked</th>\n",
       "      <th>Title</th>\n",
       "      <th>Age_scal</th>\n",
       "      <th>Fare_scal</th>\n",
       "    </tr>\n",
       "  </thead>\n",
       "  <tbody>\n",
       "    <tr>\n",
       "      <th>0</th>\n",
       "      <td>1</td>\n",
       "      <td>0</td>\n",
       "      <td>3</td>\n",
       "      <td>Braund, Mr. Owen Harris</td>\n",
       "      <td>male</td>\n",
       "      <td>1</td>\n",
       "      <td>0</td>\n",
       "      <td>A/5 21171</td>\n",
       "      <td>NaN</td>\n",
       "      <td>S</td>\n",
       "      <td>Mr.</td>\n",
       "      <td>-0.530377</td>\n",
       "      <td>-0.502445</td>\n",
       "    </tr>\n",
       "    <tr>\n",
       "      <th>1</th>\n",
       "      <td>2</td>\n",
       "      <td>1</td>\n",
       "      <td>1</td>\n",
       "      <td>Cumings, Mrs. John Bradley (Florence Briggs Th...</td>\n",
       "      <td>female</td>\n",
       "      <td>1</td>\n",
       "      <td>0</td>\n",
       "      <td>PC 17599</td>\n",
       "      <td>C85</td>\n",
       "      <td>C</td>\n",
       "      <td>Mrs.</td>\n",
       "      <td>0.571831</td>\n",
       "      <td>0.786845</td>\n",
       "    </tr>\n",
       "    <tr>\n",
       "      <th>2</th>\n",
       "      <td>3</td>\n",
       "      <td>1</td>\n",
       "      <td>3</td>\n",
       "      <td>Heikkinen, Miss. Laina</td>\n",
       "      <td>female</td>\n",
       "      <td>0</td>\n",
       "      <td>0</td>\n",
       "      <td>STON/O2. 3101282</td>\n",
       "      <td>NaN</td>\n",
       "      <td>S</td>\n",
       "      <td>Miss.</td>\n",
       "      <td>-0.254825</td>\n",
       "      <td>-0.488854</td>\n",
       "    </tr>\n",
       "    <tr>\n",
       "      <th>3</th>\n",
       "      <td>4</td>\n",
       "      <td>1</td>\n",
       "      <td>1</td>\n",
       "      <td>Futrelle, Mrs. Jacques Heath (Lily May Peel)</td>\n",
       "      <td>female</td>\n",
       "      <td>1</td>\n",
       "      <td>0</td>\n",
       "      <td>113803</td>\n",
       "      <td>C123</td>\n",
       "      <td>S</td>\n",
       "      <td>Mrs.</td>\n",
       "      <td>0.365167</td>\n",
       "      <td>0.420730</td>\n",
       "    </tr>\n",
       "    <tr>\n",
       "      <th>4</th>\n",
       "      <td>5</td>\n",
       "      <td>0</td>\n",
       "      <td>3</td>\n",
       "      <td>Allen, Mr. William Henry</td>\n",
       "      <td>male</td>\n",
       "      <td>0</td>\n",
       "      <td>0</td>\n",
       "      <td>373450</td>\n",
       "      <td>NaN</td>\n",
       "      <td>S</td>\n",
       "      <td>Mr.</td>\n",
       "      <td>0.365167</td>\n",
       "      <td>-0.486337</td>\n",
       "    </tr>\n",
       "  </tbody>\n",
       "</table>\n",
       "</div>"
      ],
      "text/plain": [
       "   PassengerId  Survived  Pclass  \\\n",
       "0            1         0       3   \n",
       "1            2         1       1   \n",
       "2            3         1       3   \n",
       "3            4         1       1   \n",
       "4            5         0       3   \n",
       "\n",
       "                                                Name     Sex  SibSp  Parch  \\\n",
       "0                            Braund, Mr. Owen Harris    male      1      0   \n",
       "1  Cumings, Mrs. John Bradley (Florence Briggs Th...  female      1      0   \n",
       "2                             Heikkinen, Miss. Laina  female      0      0   \n",
       "3       Futrelle, Mrs. Jacques Heath (Lily May Peel)  female      1      0   \n",
       "4                           Allen, Mr. William Henry    male      0      0   \n",
       "\n",
       "             Ticket Cabin Embarked  Title  Age_scal  Fare_scal  \n",
       "0         A/5 21171   NaN        S    Mr. -0.530377  -0.502445  \n",
       "1          PC 17599   C85        C   Mrs.  0.571831   0.786845  \n",
       "2  STON/O2. 3101282   NaN        S  Miss. -0.254825  -0.488854  \n",
       "3            113803  C123        S   Mrs.  0.365167   0.420730  \n",
       "4            373450   NaN        S    Mr.  0.365167  -0.486337  "
      ]
     },
     "execution_count": 13,
     "metadata": {},
     "output_type": "execute_result"
    }
   ],
   "source": [
    "from sklearn.preprocessing import StandardScaler\n",
    "\n",
    "def handle_number_feature(data):\n",
    "    \"\"\"\n",
    "        数值型属性处理函数。\n",
    "        完成功能：\n",
    "        1. 对输入dataframe中的'Age'及'Fare'列进行正态标准化处理（使用StandardScaler），生成新的列数据分别命名为'Age_scal'、'Fare_scal'。\n",
    "        2. 将标准化处理之后的结果列与输入的数据拼接，并将原有的Age和Fare列删除。\n",
    "        \n",
    "        所有的操作不改变输入参数data原先所指向数据结构的内容。\n",
    "        \n",
    "        输入参数：\n",
    "        data：需要处理的DataFrame类型数据\n",
    "        \n",
    "        输出：\n",
    "        经过如上处理之后的DataFrame数据（新生成的数据结构，不改变输出变量data的内容）。\n",
    "    \"\"\"\n",
    "    \n",
    "    # TODO\n",
    "    # 完成以上所述数值型属性的处理函数逻辑\n",
    "    new_data = pd.DataFrame(data)\n",
    "    scaler = StandardScaler()\n",
    "    new = scaler.fit_transform(new_data[['Age','Fare']])\n",
    "    new_data[['Age_scal','Fare_scal']] = pd.DataFrame(new)\n",
    "    new_data.drop(columns=['Age','Fare'],inplace=True)\n",
    "    return new_data\n",
    "\n",
    "a = handle_number_feature(train)\n",
    "a.head()"
   ]
  },
  {
   "cell_type": "markdown",
   "metadata": {},
   "source": [
    "### 数据整合处理\n",
    "\n",
    "使用以上已经定义好的处理方法，我们对所有不同类别的数据进行处理。我们可以预期，当数据经过转换之后，使用train训练出来的模型，当输入test数据集之后，得到的结果便是我们希望获得的。\n",
    "\n",
    "如果我们对train数据集进行了一系列操作，这些操作同样要作用于test数据集，才可以获得正确的结果。所以，在对训练属性进行处理的时候，我们将test数据集也一并加进来。"
   ]
  },
  {
   "cell_type": "code",
   "execution_count": 14,
   "metadata": {},
   "outputs": [
    {
     "data": {
      "text/plain": [
       "PassengerId    False\n",
       "Pclass         False\n",
       "Name           False\n",
       "Sex            False\n",
       "Age             True\n",
       "SibSp          False\n",
       "Parch          False\n",
       "Ticket         False\n",
       "Fare           False\n",
       "Cabin           True\n",
       "Embarked        True\n",
       "Title          False\n",
       "dtype: bool"
      ]
     },
     "execution_count": 14,
     "metadata": {},
     "output_type": "execute_result"
    }
   ],
   "source": [
    "# 将train中的目标列 Survived删除\n",
    "train.drop(['Survived'], axis = 1, inplace = True)\n",
    "\n",
    "# 将train与test做拼接，方便对数据整体进行处理\n",
    "data = pd.concat([train, test], axis = 0, ignore_index = True)\n",
    "\n",
    "# 查看一下train的数据完整性\n",
    "train.isnull().any()"
   ]
  },
  {
   "cell_type": "code",
   "execution_count": 15,
   "metadata": {},
   "outputs": [
    {
     "data": {
      "text/plain": [
       "Age             True\n",
       "Cabin           True\n",
       "Embarked        True\n",
       "Fare            True\n",
       "Name           False\n",
       "Parch          False\n",
       "PassengerId    False\n",
       "Pclass         False\n",
       "Sex            False\n",
       "SibSp          False\n",
       "Ticket         False\n",
       "Title           True\n",
       "dtype: bool"
      ]
     },
     "execution_count": 15,
     "metadata": {},
     "output_type": "execute_result"
    }
   ],
   "source": [
    "# 查看一下合并数据data的完整性\n",
    "data.isnull().any()"
   ]
  },
  {
   "cell_type": "markdown",
   "metadata": {},
   "source": [
    "这里将test引入到train中组成data进行整体考虑，我们可以看到在test中的空值列比train更多了，所以将他们整体考虑以做空值处理，期望能得到更好的效果。\n",
    "\n",
    "关注不完整的列'Age'、'Cabin'、'Embarked'、'Fare'。 根据之前我们的讨论，'Cabin'列将会被删除，所以对于剩下的'Age'、'Embarked'、'Fare'三列进行处理。"
   ]
  },
  {
   "cell_type": "code",
   "execution_count": 16,
   "metadata": {
    "scrolled": true
   },
   "outputs": [
    {
     "data": {
      "text/plain": [
       "<matplotlib.axes._subplots.AxesSubplot at 0x111083748>"
      ]
     },
     "execution_count": 16,
     "metadata": {},
     "output_type": "execute_result"
    },
    {
     "data": {
      "image/png": "[encoded data removed]",
      "text/plain": [
       "<Figure size 432x288 with 1 Axes>"
      ]
     },
     "metadata": {
      "needs_background": "light"
     },
     "output_type": "display_data"
    }
   ],
   "source": [
    "# TODO\n",
    "# 绘制'Age'列的箱线图\n",
    "data['Age'].plot('box')"
   ]
  },
  {
   "cell_type": "code",
   "execution_count": 17,
   "metadata": {},
   "outputs": [
    {
     "data": {
      "text/plain": [
       "<matplotlib.axes._subplots.AxesSubplot at 0x110d69f98>"
      ]
     },
     "execution_count": 17,
     "metadata": {},
     "output_type": "execute_result"
    },
    {
     "data": {
      "image/png": "[encoded data removed]",
      "text/plain": [
       "<Figure size 432x288 with 1 Axes>"
      ]
     },
     "metadata": {
      "needs_background": "light"
     },
     "output_type": "display_data"
    }
   ],
   "source": [
    "# TODO\n",
    "# 绘制'Fare'列的箱线图\n",
    "data['Fare'].plot('box')"
   ]
  },
  {
   "cell_type": "markdown",
   "metadata": {},
   "source": [
    "Fare列中存在大量的异常值，我们采用中位数对该列做空值填充。对于Age列，我们使用平均值做填充。"
   ]
  },
  {
   "cell_type": "code",
   "execution_count": 18,
   "metadata": {},
   "outputs": [],
   "source": [
    "# TODO\n",
    "# 使用中位数填充data的Fare列中的空值，结果重新赋值给data\n",
    "median = data['Fare'].median()\n",
    "data['Fare'] = data['Fare'].fillna(median)\n",
    "# TODO\n",
    "# 使用平均值填充data的Age列中的空值，结果重新赋值给data\n",
    "mean = data['Age'].mean()\n",
    "data['Age'] = data['Age'].fillna(mean)"
   ]
  },
  {
   "cell_type": "markdown",
   "metadata": {},
   "source": [
    "对于类别型属性'Embarked'，我们使用属性值中的最频繁出现值（模式mode）做填充。"
   ]
  },
  {
   "cell_type": "code",
   "execution_count": 19,
   "metadata": {},
   "outputs": [],
   "source": [
    "data = data.fillna({'Embarked':data['Embarked'].mode()[0]})"
   ]
  },
  {
   "cell_type": "markdown",
   "metadata": {},
   "source": [
    "验证一下数据完整性状况："
   ]
  },
  {
   "cell_type": "code",
   "execution_count": 20,
   "metadata": {},
   "outputs": [
    {
     "data": {
      "text/plain": [
       "Age            False\n",
       "Cabin           True\n",
       "Embarked       False\n",
       "Fare           False\n",
       "Name           False\n",
       "Parch          False\n",
       "PassengerId    False\n",
       "Pclass         False\n",
       "Sex            False\n",
       "SibSp          False\n",
       "Ticket         False\n",
       "Title           True\n",
       "dtype: bool"
      ]
     },
     "execution_count": 20,
     "metadata": {},
     "output_type": "execute_result"
    }
   ],
   "source": [
    "data.isnull().any()"
   ]
  },
  {
   "cell_type": "markdown",
   "metadata": {},
   "source": [
    "调用我们之前定义的handle_categorical_feature和handle_number_feature对数据进行处理："
   ]
  },
  {
   "cell_type": "code",
   "execution_count": 21,
   "metadata": {},
   "outputs": [
    {
     "data": {
      "text/html": [
       "<div>\n",
       "<style scoped>\n",
       "    .dataframe tbody tr th:only-of-type {\n",
       "        vertical-align: middle;\n",
       "    }\n",
       "\n",
       "    .dataframe tbody tr th {\n",
       "        vertical-align: top;\n",
       "    }\n",
       "\n",
       "    .dataframe thead th {\n",
       "        text-align: right;\n",
       "    }\n",
       "</style>\n",
       "<table border=\"1\" class=\"dataframe\">\n",
       "  <thead>\n",
       "    <tr style=\"text-align: right;\">\n",
       "      <th></th>\n",
       "      <th>Parch</th>\n",
       "      <th>Pclass</th>\n",
       "      <th>SibSp</th>\n",
       "      <th>Embarked_C</th>\n",
       "      <th>Embarked_Q</th>\n",
       "      <th>Embarked_S</th>\n",
       "      <th>Sex_female</th>\n",
       "      <th>Sex_male</th>\n",
       "      <th>Title_Master.</th>\n",
       "      <th>Title_Misc</th>\n",
       "      <th>Title_Miss.</th>\n",
       "      <th>Title_Mr.</th>\n",
       "      <th>Title_Mrs.</th>\n",
       "      <th>Age_scal</th>\n",
       "      <th>Fare_scal</th>\n",
       "    </tr>\n",
       "  </thead>\n",
       "  <tbody>\n",
       "    <tr>\n",
       "      <th>0</th>\n",
       "      <td>0</td>\n",
       "      <td>3</td>\n",
       "      <td>1</td>\n",
       "      <td>0</td>\n",
       "      <td>0</td>\n",
       "      <td>1</td>\n",
       "      <td>0</td>\n",
       "      <td>1</td>\n",
       "      <td>0</td>\n",
       "      <td>0</td>\n",
       "      <td>0</td>\n",
       "      <td>1</td>\n",
       "      <td>0</td>\n",
       "      <td>-0.611972</td>\n",
       "      <td>-0.503291</td>\n",
       "    </tr>\n",
       "    <tr>\n",
       "      <th>1</th>\n",
       "      <td>0</td>\n",
       "      <td>1</td>\n",
       "      <td>1</td>\n",
       "      <td>1</td>\n",
       "      <td>0</td>\n",
       "      <td>0</td>\n",
       "      <td>1</td>\n",
       "      <td>0</td>\n",
       "      <td>0</td>\n",
       "      <td>0</td>\n",
       "      <td>0</td>\n",
       "      <td>0</td>\n",
       "      <td>1</td>\n",
       "      <td>0.630431</td>\n",
       "      <td>0.734744</td>\n",
       "    </tr>\n",
       "    <tr>\n",
       "      <th>2</th>\n",
       "      <td>0</td>\n",
       "      <td>3</td>\n",
       "      <td>0</td>\n",
       "      <td>0</td>\n",
       "      <td>0</td>\n",
       "      <td>1</td>\n",
       "      <td>1</td>\n",
       "      <td>0</td>\n",
       "      <td>0</td>\n",
       "      <td>0</td>\n",
       "      <td>1</td>\n",
       "      <td>0</td>\n",
       "      <td>0</td>\n",
       "      <td>-0.301371</td>\n",
       "      <td>-0.490240</td>\n",
       "    </tr>\n",
       "    <tr>\n",
       "      <th>3</th>\n",
       "      <td>0</td>\n",
       "      <td>1</td>\n",
       "      <td>1</td>\n",
       "      <td>0</td>\n",
       "      <td>0</td>\n",
       "      <td>1</td>\n",
       "      <td>1</td>\n",
       "      <td>0</td>\n",
       "      <td>0</td>\n",
       "      <td>0</td>\n",
       "      <td>0</td>\n",
       "      <td>0</td>\n",
       "      <td>1</td>\n",
       "      <td>0.397481</td>\n",
       "      <td>0.383183</td>\n",
       "    </tr>\n",
       "    <tr>\n",
       "      <th>4</th>\n",
       "      <td>0</td>\n",
       "      <td>3</td>\n",
       "      <td>0</td>\n",
       "      <td>0</td>\n",
       "      <td>0</td>\n",
       "      <td>1</td>\n",
       "      <td>0</td>\n",
       "      <td>1</td>\n",
       "      <td>0</td>\n",
       "      <td>0</td>\n",
       "      <td>0</td>\n",
       "      <td>1</td>\n",
       "      <td>0</td>\n",
       "      <td>0.397481</td>\n",
       "      <td>-0.487824</td>\n",
       "    </tr>\n",
       "  </tbody>\n",
       "</table>\n",
       "</div>"
      ],
      "text/plain": [
       "   Parch  Pclass  SibSp  Embarked_C  Embarked_Q  Embarked_S  Sex_female  \\\n",
       "0      0       3      1           0           0           1           0   \n",
       "1      0       1      1           1           0           0           1   \n",
       "2      0       3      0           0           0           1           1   \n",
       "3      0       1      1           0           0           1           1   \n",
       "4      0       3      0           0           0           1           0   \n",
       "\n",
       "   Sex_male  Title_Master.  Title_Misc  Title_Miss.  Title_Mr.  Title_Mrs.  \\\n",
       "0         1              0           0            0          1           0   \n",
       "1         0              0           0            0          0           1   \n",
       "2         0              0           0            1          0           0   \n",
       "3         0              0           0            0          0           1   \n",
       "4         1              0           0            0          1           0   \n",
       "\n",
       "   Age_scal  Fare_scal  \n",
       "0 -0.611972  -0.503291  \n",
       "1  0.630431   0.734744  \n",
       "2 -0.301371  -0.490240  \n",
       "3  0.397481   0.383183  \n",
       "4  0.397481  -0.487824  "
      ]
     },
     "execution_count": 21,
     "metadata": {},
     "output_type": "execute_result"
    }
   ],
   "source": [
    "data_1 = handle_categorical_feature(data)\n",
    "data_handled = handle_number_feature(data_1)\n",
    "\n",
    "data_handled.head()"
   ]
  },
  {
   "cell_type": "markdown",
   "metadata": {},
   "source": [
    "在数据预处理的最后，我们将数据重新划分。\n",
    "\n",
    "把原来属于train数据集的内容划分到变量train_X中，同时将剩下行划分到test_X中以备后面模型训练使用"
   ]
  },
  {
   "cell_type": "code",
   "execution_count": 22,
   "metadata": {},
   "outputs": [],
   "source": [
    "# 将需要提交的没有标签的数据分离出来\n",
    "train_X = data_handled.iloc[0:len(train)]\n",
    "test_X = data_handled.iloc[len(train):]\n",
    "X_train, X_test, y_train, y_test = train_test_split(train_X, y, test_size=0.2, random_state=1)"
   ]
  },
  {
   "cell_type": "markdown",
   "metadata": {},
   "source": [
    "----\n",
    "\n",
    "## 模型构建和参数调整\n",
    "\n",
    "使用网格搜索（GridSearchCV）调整模型的重要参数，并进行训练。在调参之前，需要同学们利用搜索引擎以及通过学习课程内容来熟悉各参数的意义。推荐调节参数有max_depth，learning_rate，n_estimators，min_child_weight等。请注意复杂的条件组合可能会耗费较长的训练时间。"
   ]
  },
  {
   "cell_type": "code",
   "execution_count": 23,
   "metadata": {},
   "outputs": [
    {
     "name": "stdout",
     "output_type": "stream",
     "text": [
      "训练XG中\n",
      "Fitting 6 folds for each of 384 candidates, totalling 2304 fits\n"
     ]
    },
    {
     "name": "stderr",
     "output_type": "stream",
     "text": [
      "[Parallel(n_jobs=4)]: Using backend LokyBackend with 4 concurrent workers.\n",
      "[Parallel(n_jobs=4)]: Done  49 tasks      | elapsed:    2.7s\n",
      "[Parallel(n_jobs=4)]: Done 349 tasks      | elapsed:   10.2s\n",
      "[Parallel(n_jobs=4)]: Done 849 tasks      | elapsed:   22.5s\n",
      "[Parallel(n_jobs=4)]: Done 1549 tasks      | elapsed:   43.9s\n",
      "[Parallel(n_jobs=4)]: Done 2297 out of 2304 | elapsed:  1.2min remaining:    0.2s\n"
     ]
    },
    {
     "name": "stdout",
     "output_type": "stream",
     "text": [
      "train score：0.938\n",
      "test score：0.826\n",
      "parameter：{'gamma': 0.05, 'learning_rate': 0.05, 'max_depth': 5, 'min_child_weight': 5, 'n_estimators': 100}\n",
      "###########################################\n"
     ]
    },
    {
     "name": "stderr",
     "output_type": "stream",
     "text": [
      "[Parallel(n_jobs=4)]: Done 2304 out of 2304 | elapsed:  1.2min finished\n"
     ]
    }
   ],
   "source": [
    "def train_test_model(X_train, y_train, X_test, y_test, model_name, model, param_range):\n",
    "    \n",
    "    print('训练{}中'.format(model_name))   \n",
    "  \n",
    "    clf = GridSearchCV(estimator = model,\n",
    "                       param_grid = param_range,\n",
    "                       cv = 6,\n",
    "                       scoring = 'roc_auc',\n",
    "                       refit = True, verbose = 1, n_jobs = 4)\n",
    "    \n",
    "    clf.fit(X_train, y_train)   \n",
    "    \n",
    "    train_score = clf.score(X_train, y_train)\n",
    "    test_score = clf.score(X_test, y_test)\n",
    "    \n",
    "    print('train score：{:.3f}'.format(train_score))\n",
    "    print('test score：{:.3f}'.format(test_score))\n",
    "    print('parameter：{}'.format(clf.best_params_))\n",
    "    \n",
    "    print('###########################################')\n",
    "    \n",
    "    return clf\n",
    "\n",
    "model_name_param_dict = {\n",
    "                        'XG': (XGBClassifier(),                                  \n",
    "                        {'max_depth': [6,5,4, 3], 'learning_rate': [0.3, 0.05, 0.1, 0.5], 'gamma':[0.1, 0.05, 0.2, 0.3], \n",
    "               'min_child_weight':[5, 10], 'n_estimators': [50, 100, 200]})\n",
    "                         }\n",
    "\n",
    "for model_name, (model, param_range) in model_name_param_dict.items():\n",
    "       gscv = train_test_model(X_train, y_train, X_test, y_test,\n",
    "                                                            model_name, model, param_range)\n"
   ]
  },
  {
   "cell_type": "markdown",
   "metadata": {},
   "source": [
    "**问题：** 在参数的调整中，如果learning_rate的值过小会导致什么问题呢？"
   ]
  },
  {
   "cell_type": "markdown",
   "metadata": {},
   "source": [
    "算法收敛速度过慢"
   ]
  },
  {
   "cell_type": "markdown",
   "metadata": {},
   "source": [
    "在获得满意的效果之后，就可以执行以下代码啦。它会把结果输出为Kaggle要求的格式，文件名为result.csv，同学们可以将这个文件提交到 https://www.kaggle.com/c/titanic 就可以看到自己的分数了！"
   ]
  },
  {
   "cell_type": "code",
   "execution_count": 24,
   "metadata": {},
   "outputs": [],
   "source": [
    "id=test['PassengerId']\n",
    "id = id.as_matrix()\n",
    "result=list(zip(id,gscv.predict(test_X)))\n",
    "result=np.array(result)\n",
    "\n",
    "df = pd.DataFrame(result, columns=['PassengerId','Survived'])\n",
    "\n",
    "df.to_csv('result.csv',index=False)"
   ]
  },
  {
   "cell_type": "markdown",
   "metadata": {},
   "source": [
    "同学们可以将自己提交结果截图下来，复制到下面的文本框当中："
   ]
  },
  {
   "attachments": {
    "%E5%B1%8F%E5%B9%95%E5%BF%AB%E7%85%A7%202019-03-17%20%E4%B8%8A%E5%8D%8811.43.11.png": {
     "image/png": "[encoded data removed]"
    }
   },
   "cell_type": "markdown",
   "metadata": {},
   "source": [
    "![%E5%B1%8F%E5%B9%95%E5%BF%AB%E7%85%A7%202019-03-17%20%E4%B8%8A%E5%8D%8811.43.11.png](attachment:%E5%B1%8F%E5%B9%95%E5%BF%AB%E7%85%A7%202019-03-17%20%E4%B8%8A%E5%8D%8811.43.11.png)"
   ]
  },
  {
   "cell_type": "markdown",
   "metadata": {},
   "source": [
    "----\n",
    "\n",
    "## 选做\n",
    "\n",
    "Kaggle是个开放的竞赛平台，以上对数据的处理，模型参数的选做都非最终答案。如果希望得到更高的分数，我们需要对数据进行更多的处理，对模型进行更细致的调优。\n",
    "\n",
    "在数据处理方面，可以参考的思路包括但不限于：\n",
    "\n",
    "1. 对数据进行分段，提高模型的泛化能力。比如将数据中的Parch和SibSp合并考虑，将它们相加结果FamilySize进行分段离散化，我们可以构建FamilySize与Survival Rate的关系图，判断将其取值范围划分为若干段的离散化数据（比如FamilySize < 2 映射为一段，2到5之间为一段，5以上为一段），放入训练数据中进行模型拟合。再比如对Age也可以进行分段划分。\n",
    "\n",
    "2. 对数据尝试进行PCA等降维处理，留下数据中最主要的方差解释，降低噪声以提高泛化能力。\n",
    "\n",
    "3. 归一化方法以及空值处理方法我们还有其它的可选方式，比如空值处理中，用整体数据的平均年龄可能不太合适，我们可以考虑根据Title计算每种Title的平均年龄，在空值填充时对不同Title使用不同的填充方式（毕竟Miss.跟Mrs.一般来说年龄是有差异的）。\n",
    "\n",
    "在模型方面，可以尝试更多的参数组合，也可以考虑使用XGBoost的 Learning API，调整除了以上作业中的其它更多参数（比如lambda等）来测试模型效果。\n",
    "\n",
    "如果进行了调整并得到更好的效果，在下面贴出你的代码和排名图片吧："
   ]
  },
  {
   "attachments": {
    "%E5%B1%8F%E5%B9%95%E5%BF%AB%E7%85%A7%202019-03-17%20%E4%B8%8B%E5%8D%886.55.43.png": {
     "image/png": "[encoded data removed]"
    }
   },
   "cell_type": "markdown",
   "metadata": {},
   "source": [
    "![%E5%B1%8F%E5%B9%95%E5%BF%AB%E7%85%A7%202019-03-17%20%E4%B8%8B%E5%8D%886.55.43.png](attachment:%E5%B1%8F%E5%B9%95%E5%BF%AB%E7%85%A7%202019-03-17%20%E4%B8%8B%E5%8D%886.55.43.png)"
   ]
  },
  {
   "cell_type": "code",
   "execution_count": 25,
   "metadata": {},
   "outputs": [
    {
     "name": "stdout",
     "output_type": "stream",
     "text": [
      "0     537\n",
      "1     161\n",
      "2     102\n",
      "3      29\n",
      "5      22\n",
      "4      15\n",
      "6      12\n",
      "10      7\n",
      "7       6\n",
      "Name: FamilySize, dtype: int64\n"
     ]
    },
    {
     "data": {
      "image/png": "[encoded data removed]",
      "text/plain": [
       "<Figure size 432x288 with 1 Axes>"
      ]
     },
     "metadata": {
      "needs_background": "light"
     },
     "output_type": "display_data"
    }
   ],
   "source": [
    "# TODO\n",
    "# 模型优化代码\n",
    "# data是原始的train+test, data_handled是经过处理的，然后按照长度取出train和test(提交结果的测试)\n",
    "\n",
    "### 1.先看Family Size 在原始数据集上和Survival Rate 的关系 ###\n",
    "t = pd.read_csv('./all/train.csv')\n",
    "new_data_handled = pd.DataFrame(t)\n",
    "new_data_handled['FamilySize'] = t['Parch']+t['SibSp']\n",
    "new_data_handled.drop(columns=['Parch','SibSp'],inplace=True)\n",
    "print(new_data_handled['FamilySize'].value_counts())\n",
    "showSurvivalRate(new_data_handled, 'FamilySize')"
   ]
  },
  {
   "cell_type": "markdown",
   "metadata": {},
   "source": [
    "从上图以及value_counts()的结果可以看出：第7,8个数值（<10）的没有存活率，前4个差不多，4~6个差不多，所以分类如下:\n",
    "\n",
    "0\n",
    "\n",
    "1~3\n",
    "\n",
    "4~5\n",
    "\n",
    "6\n",
    "\n",
    "大于6"
   ]
  },
  {
   "cell_type": "code",
   "execution_count": 26,
   "metadata": {},
   "outputs": [],
   "source": [
    "###  对FamilySize划分 ###\n",
    "def improve1_groupFamilySize(df):\n",
    "    new_df = pd.DataFrame(df)\n",
    "    new_df['FamilySize'] = new_df['Parch']+new_df['SibSp']\n",
    "    new_df.drop(columns=['Parch','SibSp'],inplace=True)\n",
    "    bins = [0,1,4,6,7,max(new_df['FamilySize'])+1]\n",
    "    labels = ['1','2','3','4','5']\n",
    "    cut = pd.cut(new_df.FamilySize, bins, right=False, labels = labels)\n",
    "    new_df['FamilySizeGroup'] = cut\n",
    "    new_df.drop(columns=['FamilySize'],inplace=True)\n",
    "    new_df['FamilySizeGroup'] = new_df['FamilySizeGroup'].fillna('3') #用中位数填充缺失值（???）\n",
    "    new_df = pd.get_dummies(new_df)\n",
    "    return new_df\n"
   ]
  },
  {
   "cell_type": "markdown",
   "metadata": {},
   "source": [
    "结果：\n",
    "\n",
    "train score：0.932\n",
    "\n",
    "test score：0.843"
   ]
  },
  {
   "cell_type": "code",
   "execution_count": 27,
   "metadata": {},
   "outputs": [
    {
     "data": {
      "text/plain": [
       "<matplotlib.axes._subplots.AxesSubplot at 0x110fadf28>"
      ]
     },
     "execution_count": 27,
     "metadata": {},
     "output_type": "execute_result"
    },
    {
     "data": {
      "image/png": "[encoded data removed]",
      "text/plain": [
       "<Figure size 432x288 with 1 Axes>"
      ]
     },
     "metadata": {
      "needs_background": "light"
     },
     "output_type": "display_data"
    },
    {
     "data": {
      "image/png": "[encoded data removed]",
      "text/plain": [
       "<Figure size 432x288 with 1 Axes>"
      ]
     },
     "metadata": {
      "needs_background": "light"
     },
     "output_type": "display_data"
    },
    {
     "data": {
      "image/png": "[encoded data removed]",
      "text/plain": [
       "<Figure size 432x288 with 1 Axes>"
      ]
     },
     "metadata": {
      "needs_background": "light"
     },
     "output_type": "display_data"
    }
   ],
   "source": [
    "### 2. 尝试对年龄进行划分 ###\n",
    "def showSurvivalRate_V2(df, column_name):\n",
    "    d = df[[column_name,'Survived']]\n",
    "    d.dropna(inplace=True) #index是行数，col是两个列名\n",
    "    idx = list(d[column_name].value_counts().index) #新的dataframe的第一列\n",
    "    sr = list()\n",
    "    for i in range(len(idx)):\n",
    "        x = d[d[column_name]==idx[i]]\n",
    "        sr.append(x['Survived'].sum()/x.shape[0])\n",
    "    new = np.hstack([np.array(idx).reshape(-1,1),np.array(sr).reshape(-1,1)])\n",
    "    results_df = pd.DataFrame(new,columns=[column_name,'Survival Rate'])\n",
    "    results_df['Survival Rate'] = pd.to_numeric(results_df['Survival Rate']) \n",
    "    # 绘制柱形图\n",
    "    return results_df\n",
    "\n",
    "a = showSurvivalRate_V2(t,'Age')\n",
    "a[a['Survival Rate']<=0.33].plot(x='Age',y=['Survival Rate'], kind='bar', title=\"Survival Rate\", legend=False)\n",
    "a[(a['Survival Rate']>=0.33) & (a['Survival Rate']<=0.66)].plot(x='Age',y=['Survival Rate'], kind='bar', title=\"Survival Rate\", legend=False)\n",
    "a[a['Survival Rate']>0.66].plot(x='Age',y=['Survival Rate'], kind='bar', title=\"Survival Rate\", legend=False)"
   ]
  },
  {
   "cell_type": "markdown",
   "metadata": {},
   "source": [
    "我觉得年龄太分散了，不好划分成段，作为数值特征更好"
   ]
  },
  {
   "cell_type": "code",
   "execution_count": 28,
   "metadata": {},
   "outputs": [],
   "source": [
    "new_data_handled = improve1_groupFamilySize(data_handled)\n",
    "new_data_handled['Age_scal'] = new_data_handled['Age_scal'].fillna(new_data_handled['Age_scal'].median())\n",
    "new_data_handled['Fare_scal'] = new_data_handled['Fare_scal'].fillna(new_data_handled['Fare_scal'].median())"
   ]
  },
  {
   "cell_type": "code",
   "execution_count": 29,
   "metadata": {},
   "outputs": [],
   "source": [
    "### 3. PCA ###\n",
    "from sklearn.decomposition import PCA\n",
    "n_components = 0.99\n",
    "pca = PCA(n_components)\n",
    "pca.fit(new_data_handled)\n",
    "new_data_handled_pca = pca.transform(new_data_handled) #it's a nd array"
   ]
  },
  {
   "cell_type": "code",
   "execution_count": 30,
   "metadata": {},
   "outputs": [
    {
     "name": "stdout",
     "output_type": "stream",
     "text": [
      "训练XG中\n",
      "Fitting 6 folds for each of 288 candidates, totalling 1728 fits\n"
     ]
    },
    {
     "name": "stderr",
     "output_type": "stream",
     "text": [
      "[Parallel(n_jobs=4)]: Using backend LokyBackend with 4 concurrent workers.\n",
      "[Parallel(n_jobs=4)]: Done 212 tasks      | elapsed:    6.3s\n",
      "[Parallel(n_jobs=4)]: Done 659 tasks      | elapsed:   22.4s\n",
      "[Parallel(n_jobs=4)]: Done 1159 tasks      | elapsed:   41.9s\n",
      "[Parallel(n_jobs=4)]: Done 1721 out of 1728 | elapsed:  1.1min remaining:    0.3s\n",
      "[Parallel(n_jobs=4)]: Done 1728 out of 1728 | elapsed:  1.1min finished\n"
     ]
    },
    {
     "name": "stdout",
     "output_type": "stream",
     "text": [
      "train score：0.960\n",
      "test score：0.819\n",
      "parameter：{'gamma': 0.3, 'learning_rate': 0.05, 'max_depth': 3, 'min_child_weight': 5, 'n_estimators': 200}\n",
      "###########################################\n"
     ]
    }
   ],
   "source": [
    "### 进行精细的特征工程后再次训练xgboost ,我每次加入一个改进就训练一次看看效果###\n",
    "\n",
    "\n",
    "train_X_ = new_data_handled_pca[0:len(train)]\n",
    "test_X_ = new_data_handled_pca[len(train):]\n",
    "X_train_, X_test_, y_train_, y_test_ = train_test_split(train_X_, y, test_size=0.2, random_state=1)\n",
    "\n",
    "model_name_param_dict = {\n",
    "                        'XG': (XGBClassifier(),                                  \n",
    "                        {'max_depth': [3,4,5], 'learning_rate': [0.15, 0.05, 0.1, 0.01], 'gamma':[0.1, 0.05, 0.2, 0.3], \n",
    "               'min_child_weight':[5, 10], 'n_estimators': [50, 100,200 ]})\n",
    "                         }\n",
    "\n",
    "for model_name, (model, param_range) in model_name_param_dict.items():\n",
    "       gscv = train_test_model(X_train_, y_train_, X_test_, y_test_,\n",
    "                                                            model_name, model, param_range)\n"
   ]
  },
  {
   "cell_type": "code",
   "execution_count": 31,
   "metadata": {},
   "outputs": [],
   "source": [
    "id=test['PassengerId']\n",
    "id = id.as_matrix()\n",
    "result=list(zip(id,gscv.predict(test_X_)))\n",
    "result=np.array(result)\n",
    "\n",
    "df = pd.DataFrame(result, columns=['PassengerId','Survived'])\n",
    "\n",
    "df.to_csv('result.csv',index=False)"
   ]
  },
  {
   "cell_type": "code",
   "execution_count": null,
   "metadata": {},
   "outputs": [],
   "source": []
  }
 ],
 "metadata": {
  "kernelspec": {
   "display_name": "Python 3",
   "language": "python",
   "name": "python3"
  },
  "language_info": {
   "codemirror_mode": {
    "name": "ipython",
    "version": 3
   },
   "file_extension": ".py",
   "mimetype": "text/x-python",
   "name": "python",
   "nbconvert_exporter": "python",
   "pygments_lexer": "ipython3",
   "version": "3.6.8"
  }
 },
 "nbformat": 4,
 "nbformat_minor": 2
}
