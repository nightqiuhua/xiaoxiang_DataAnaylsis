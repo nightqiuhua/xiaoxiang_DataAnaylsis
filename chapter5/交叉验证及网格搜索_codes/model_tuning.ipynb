{
 "cells": [
  {
   "cell_type": "markdown",
   "metadata": {},
   "source": [
    "# 交叉验证及网格搜索"
   ]
  },
  {
   "cell_type": "markdown",
   "metadata": {},
   "source": [
    "## 0. 加载相关模块"
   ]
  },
  {
   "cell_type": "code",
   "execution_count": 1,
   "metadata": {},
   "outputs": [],
   "source": [
    "import numpy as np\n",
    "import matplotlib.pyplot as plt\n",
    "from sklearn.datasets import load_iris\n",
    "from sklearn.model_selection import train_test_split\n",
    "\n",
    "# 用于在jupyter中进行绘图\n",
    "%matplotlib inline"
   ]
  },
  {
   "cell_type": "markdown",
   "metadata": {},
   "source": [
    "## 1. 数据加载"
   ]
  },
  {
   "cell_type": "code",
   "execution_count": 2,
   "metadata": {},
   "outputs": [
    {
     "name": "stdout",
     "output_type": "stream",
     "text": [
      "数据集样本数：150，训练集样本数：112，测试集样本数：38\n"
     ]
    }
   ],
   "source": [
    "iris = load_iris()\n",
    "\n",
    "X = iris.data\n",
    "y = iris.target\n",
    "X_train, X_test, y_train, y_test = train_test_split(X, y, test_size=1/4, random_state=0)\n",
    "\n",
    "print('数据集样本数：{}，训练集样本数：{}，测试集样本数：{}'.format(len(X), len(X_train), len(X_test)))"
   ]
  },
  {
   "cell_type": "markdown",
   "metadata": {},
   "source": [
    "## 2. 交叉验证"
   ]
  },
  {
   "cell_type": "markdown",
   "metadata": {},
   "source": [
    "交叉验证就是把训练集分成fold份，其中一份叫validation，另外fold-1份才是真正的训练集。对于超参的每个数值在所有的训练fold上跑一次并在validation上验证得到结果，取平均数就是该参数值对应的结果。选择结果最大的对应的超参。\n",
    "\n",
    "然后给模型用选好的超参在测试集上测试。\n",
    "\n",
    "KNN的超参：K,距离度量，。。。\n",
    "SVM的超参： kernel，C，..."
   ]
  },
  {
   "cell_type": "code",
   "execution_count": 4,
   "metadata": {
    "scrolled": false
   },
   "outputs": [
    {
     "name": "stdout",
     "output_type": "stream",
     "text": [
      "k=1，验证集上的准确率=0.947\n",
      "k=5，验证集上的准确率=0.955\n",
      "k=9，验证集上的准确率=0.964\n",
      "k=15，验证集上的准确率=0.964\n",
      "测试集准确率： 0.9736842105263158\n",
      "{'n_neighbors': 9}\n"
     ]
    },
    {
     "name": "stderr",
     "output_type": "stream",
     "text": [
      "/Users/apple/anaconda3/envs/tensorflow/lib/python3.6/site-packages/sklearn/model_selection/_search.py:841: DeprecationWarning: The default of the `iid` parameter will change from True to False in version 0.22 and will be removed in 0.24. This will change numeric results when test-set sizes are unequal.\n",
      "  DeprecationWarning)\n"
     ]
    }
   ],
   "source": [
    "from sklearn.neighbors import KNeighborsClassifier\n",
    "from sklearn.model_selection import cross_val_score #返回对不同参数打分的一个列表\n",
    "\n",
    "k_range = [1, 5, 9, 15]\n",
    "cv_scores = []\n",
    "for k in k_range:\n",
    "    knn = KNeighborsClassifier(n_neighbors=k)\n",
    "    scores = cross_val_score(knn, X_train, y_train, cv=5)\n",
    "    cv_score = np.mean(scores)\n",
    "    print('k={}，验证集上的准确率={:.3f}'.format(k, cv_score))\n",
    "    cv_scores.append(cv_score)\n",
    "#CV还要自己拿最佳的超参重新训练一遍\n",
    "best_k = k_range[np.argmax(cv_scores)]\n",
    "best_knn = KNeighborsClassifier(n_neighbors=best_k)\n",
    "best_knn.fit(X_train, y_train)\n",
    "print('测试集准确率：', best_knn.score(X_test, y_test))  \n",
    "    \n",
    "    \n",
    "    \n",
    "    \n",
    "#如果摆脱自己写循环,就是使用GridSearchCV构造单参数的线条：\n",
    "from sklearn.model_selection import GridSearchCV\n",
    "parameters = {'n_neighbors':k_range}\n",
    "best_knn = GridSearchCV(KNeighborsClassifier(),parameters,cv=5,scoring='accuracy')\n",
    "#这步喂给网格搜索数据使它能搜索到最优解，并且最后还会默认用最优解训练模型。但CV不会。\n",
    "best_knn.fit(X_train,y_train) \n",
    "print('测试集准确率：', best_knn.score(X_test, y_test))\n",
    "print(best_knn.best_params_)"
   ]
  },
  {
   "cell_type": "markdown",
   "metadata": {},
   "source": [
    "## 3. 网格搜索\n",
    "\n",
    "因为有多个超参需要候选，所以需要组合以后一个个挑选，就是grid_search.grid_search建立在cross-validation的基础上。\n",
    "\n",
    "total running time: #hparam1 * #hparam2 * cv"
   ]
  },
  {
   "cell_type": "code",
   "execution_count": 19,
   "metadata": {},
   "outputs": [
    {
     "data": {
      "text/plain": [
       "GridSearchCV(cv=5, error_score='raise',\n",
       "       estimator=DecisionTreeClassifier(class_weight=None, criterion='gini', max_depth=None,\n",
       "            max_features=None, max_leaf_nodes=None,\n",
       "            min_impurity_decrease=0.0, min_impurity_split=None,\n",
       "            min_samples_leaf=1, min_samples_split=2,\n",
       "            min_weight_fraction_leaf=0.0, presort=False, random_state=None,\n",
       "            splitter='best'),\n",
       "       fit_params=None, iid=True, n_jobs=1,\n",
       "       param_grid={'max_depth': [3, 5, 7, 9], 'min_samples_leaf': [1, 2, 3, 4]},\n",
       "       pre_dispatch='2*n_jobs', refit=True, return_train_score=True,\n",
       "       scoring='accuracy', verbose=0)"
      ]
     },
     "execution_count": 19,
     "metadata": {},
     "output_type": "execute_result"
    }
   ],
   "source": [
    "from sklearn.model_selection import GridSearchCV #返回含有最佳超参数的模型实例\n",
    "from sklearn.tree import DecisionTreeClassifier\n",
    "\n",
    "parameters = {'max_depth':[3, 5, 7, 9], 'min_samples_leaf': [1, 2, 3, 4]}\n",
    "clf = GridSearchCV(DecisionTreeClassifier(), parameters, cv=5, scoring='accuracy')\n",
    "clf.fit(X_train, y_train)"
   ]
  },
  {
   "cell_type": "code",
   "execution_count": 20,
   "metadata": {},
   "outputs": [
    {
     "name": "stdout",
     "output_type": "stream",
     "text": [
      "最优参数： {'max_depth': 5, 'min_samples_leaf': 2}\n",
      "验证集最高得分： 0.9553571428571429\n"
     ]
    }
   ],
   "source": [
    "print('最优参数：', clf.best_params_)\n",
    "print('验证集最高得分：', clf.best_score_)"
   ]
  },
  {
   "cell_type": "code",
   "execution_count": 22,
   "metadata": {},
   "outputs": [
    {
     "name": "stdout",
     "output_type": "stream",
     "text": [
      "测试集上准确率： 0.9473684210526315\n"
     ]
    }
   ],
   "source": [
    "# 获取最优模型\n",
    "best_model = clf.best_estimator_\n",
    "print('测试集上准确率：', best_model.score(X_test, y_test))"
   ]
  },
  {
   "cell_type": "markdown",
   "metadata": {},
   "source": [
    "## 4. 模型持久化"
   ]
  },
  {
   "cell_type": "markdown",
   "metadata": {},
   "source": [
    "### 4.1 pickle"
   ]
  },
  {
   "cell_type": "code",
   "execution_count": 23,
   "metadata": {
    "collapsed": true
   },
   "outputs": [],
   "source": [
    "# 使用pickle\n",
    "import pickle\n",
    "\n",
    "model_path1 = './trained_model1.pkl'\n",
    "\n",
    "# 保存模型到硬盘\n",
    "with open(model_path1, 'wb') as f:\n",
    "    pickle.dump(best_model, f)"
   ]
  },
  {
   "cell_type": "code",
   "execution_count": 25,
   "metadata": {},
   "outputs": [
    {
     "name": "stdout",
     "output_type": "stream",
     "text": [
      "预测值为 [2]\n",
      "真实值为 2\n"
     ]
    }
   ],
   "source": [
    "# 加载保存的模型\n",
    "with open(model_path1, 'rb') as f:\n",
    "    model = pickle.load(f)\n",
    "\n",
    "# 预测\n",
    "print('预测值为', model.predict([X_test[0, :]]))\n",
    "print('真实值为', y_test[0])"
   ]
  },
  {
   "cell_type": "markdown",
   "metadata": {},
   "source": [
    "### 4.2 使用joblib"
   ]
  },
  {
   "cell_type": "code",
   "execution_count": 26,
   "metadata": {},
   "outputs": [
    {
     "data": {
      "text/plain": [
       "['./trained_model2.pkl']"
      ]
     },
     "execution_count": 26,
     "metadata": {},
     "output_type": "execute_result"
    }
   ],
   "source": [
    "# 使用joblib\n",
    "from sklearn.externals import joblib\n",
    "\n",
    "# 保存模型到硬盘\n",
    "model_path2 = './trained_model2.pkl'\n",
    "joblib.dump(best_model, model_path2) "
   ]
  },
  {
   "cell_type": "code",
   "execution_count": 28,
   "metadata": {},
   "outputs": [
    {
     "name": "stdout",
     "output_type": "stream",
     "text": [
      "预测值为 [2]\n",
      "真实值为 2\n"
     ]
    }
   ],
   "source": [
    "# 加载保存的模型\n",
    "model = joblib.load(model_path2) \n",
    "\n",
    "# 预测\n",
    "print('预测值为', model.predict([X_test[0, :]]))\n",
    "print('真实值为', y_test[0])"
   ]
  }
 ],
 "metadata": {
  "kernelspec": {
   "display_name": "Python 3",
   "language": "python",
   "name": "python3"
  },
  "language_info": {
   "codemirror_mode": {
    "name": "ipython",
    "version": 3
   },
   "file_extension": ".py",
   "mimetype": "text/x-python",
   "name": "python",
   "nbconvert_exporter": "python",
   "pygments_lexer": "ipython3",
   "version": "3.6.8"
  }
 },
 "nbformat": 4,
 "nbformat_minor": 2
}
