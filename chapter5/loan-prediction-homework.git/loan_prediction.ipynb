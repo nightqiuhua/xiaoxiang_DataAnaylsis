{
 "cells": [
  {
   "cell_type": "markdown",
   "metadata": {},
   "source": [
    "# 训练营——机器学习L1系列\n",
    "## 机器学习\n",
    "## 贷款审批结果预测\n",
    "\n",
    "这个项目中，我们将处理以csv文件格式存储的数据。数据来自竞赛https://datahack.analyticsvidhya.com/contest/practice-problem-loan-prediction-iii/ \n",
    "\n",
    "银行的放贷审批，核心要素为风险控制。因此，对于申请人的审查关注的要点为违约可能性。而违约可能性通常由申请人收入情况、稳定性、贷款数额及偿还年限等因素来衡量。该项目根据申请人条件，进一步细化得到各个变量对于违约评估的影响，从而预测银行是否会批准贷款申请。在项目实现过程中使用了经典的机器学习算法，对申请贷款客户进行科学归类，从而帮助金融机构提高对贷款信用风险的控制能力。\n",
    "\n",
    "> **提示**：这样的文字将会指导你如何使用 jupyter Notebook 来完成项目。你可以通过单击代码区域，然后使用键盘快捷键 Shift+Enter 或 Shift+Return 来运行代码。或者在选择代码后使用执行（run cell）按钮执行代码。Markdown的文字区域也同样可以如此操作。\n",
    "\n",
    "> 在如下有**# TODO** 提示的地方，将代码补全，实现注释中所要求的功能。\n"
   ]
  },
  {
   "cell_type": "markdown",
   "metadata": {},
   "source": [
    "## 1. 数据读取"
   ]
  },
  {
   "cell_type": "code",
   "execution_count": 1,
   "metadata": {},
   "outputs": [],
   "source": [
    "import pandas as pd\n",
    "import warnings\n",
    "warnings.filterwarnings('ignore')\n",
    "file = './data/loan_records.csv'\n",
    "loan_df = pd.read_csv(file)"
   ]
  },
  {
   "cell_type": "markdown",
   "metadata": {},
   "source": [
    "### 1.1 数据预览"
   ]
  },
  {
   "cell_type": "code",
   "execution_count": 2,
   "metadata": {},
   "outputs": [
    {
     "name": "stdout",
     "output_type": "stream",
     "text": [
      "数据集一共有614行，13列\n"
     ]
    }
   ],
   "source": [
    "print('数据集一共有{}行，{}列'.format(loan_df.shape[0], loan_df.shape[1]))"
   ]
  },
  {
   "cell_type": "code",
   "execution_count": 3,
   "metadata": {},
   "outputs": [
    {
     "data": {
      "text/html": [
       "<div>\n",
       "<style scoped>\n",
       "    .dataframe tbody tr th:only-of-type {\n",
       "        vertical-align: middle;\n",
       "    }\n",
       "\n",
       "    .dataframe tbody tr th {\n",
       "        vertical-align: top;\n",
       "    }\n",
       "\n",
       "    .dataframe thead th {\n",
       "        text-align: right;\n",
       "    }\n",
       "</style>\n",
       "<table border=\"1\" class=\"dataframe\">\n",
       "  <thead>\n",
       "    <tr style=\"text-align: right;\">\n",
       "      <th></th>\n",
       "      <th>Loan_ID</th>\n",
       "      <th>Gender</th>\n",
       "      <th>Married</th>\n",
       "      <th>Dependents</th>\n",
       "      <th>Education</th>\n",
       "      <th>Self_Employed</th>\n",
       "      <th>ApplicantIncome</th>\n",
       "      <th>CoapplicantIncome</th>\n",
       "      <th>LoanAmount</th>\n",
       "      <th>Loan_Amount_Term</th>\n",
       "      <th>Credit_History</th>\n",
       "      <th>Property_Area</th>\n",
       "      <th>Loan_Status</th>\n",
       "    </tr>\n",
       "  </thead>\n",
       "  <tbody>\n",
       "    <tr>\n",
       "      <th>0</th>\n",
       "      <td>LP001002</td>\n",
       "      <td>Male</td>\n",
       "      <td>No</td>\n",
       "      <td>0</td>\n",
       "      <td>Graduate</td>\n",
       "      <td>No</td>\n",
       "      <td>5849</td>\n",
       "      <td>0.0</td>\n",
       "      <td>NaN</td>\n",
       "      <td>360.0</td>\n",
       "      <td>1.0</td>\n",
       "      <td>Urban</td>\n",
       "      <td>Y</td>\n",
       "    </tr>\n",
       "    <tr>\n",
       "      <th>1</th>\n",
       "      <td>LP001003</td>\n",
       "      <td>Male</td>\n",
       "      <td>Yes</td>\n",
       "      <td>1</td>\n",
       "      <td>Graduate</td>\n",
       "      <td>No</td>\n",
       "      <td>4583</td>\n",
       "      <td>1508.0</td>\n",
       "      <td>128.0</td>\n",
       "      <td>360.0</td>\n",
       "      <td>1.0</td>\n",
       "      <td>Rural</td>\n",
       "      <td>N</td>\n",
       "    </tr>\n",
       "    <tr>\n",
       "      <th>2</th>\n",
       "      <td>LP001005</td>\n",
       "      <td>Male</td>\n",
       "      <td>Yes</td>\n",
       "      <td>0</td>\n",
       "      <td>Graduate</td>\n",
       "      <td>Yes</td>\n",
       "      <td>3000</td>\n",
       "      <td>0.0</td>\n",
       "      <td>66.0</td>\n",
       "      <td>360.0</td>\n",
       "      <td>1.0</td>\n",
       "      <td>Urban</td>\n",
       "      <td>Y</td>\n",
       "    </tr>\n",
       "    <tr>\n",
       "      <th>3</th>\n",
       "      <td>LP001006</td>\n",
       "      <td>Male</td>\n",
       "      <td>Yes</td>\n",
       "      <td>0</td>\n",
       "      <td>Not Graduate</td>\n",
       "      <td>No</td>\n",
       "      <td>2583</td>\n",
       "      <td>2358.0</td>\n",
       "      <td>120.0</td>\n",
       "      <td>360.0</td>\n",
       "      <td>1.0</td>\n",
       "      <td>Urban</td>\n",
       "      <td>Y</td>\n",
       "    </tr>\n",
       "    <tr>\n",
       "      <th>4</th>\n",
       "      <td>LP001008</td>\n",
       "      <td>Male</td>\n",
       "      <td>No</td>\n",
       "      <td>0</td>\n",
       "      <td>Graduate</td>\n",
       "      <td>No</td>\n",
       "      <td>6000</td>\n",
       "      <td>0.0</td>\n",
       "      <td>141.0</td>\n",
       "      <td>360.0</td>\n",
       "      <td>1.0</td>\n",
       "      <td>Urban</td>\n",
       "      <td>Y</td>\n",
       "    </tr>\n",
       "  </tbody>\n",
       "</table>\n",
       "</div>"
      ],
      "text/plain": [
       "    Loan_ID Gender Married Dependents     Education Self_Employed  \\\n",
       "0  LP001002   Male      No          0      Graduate            No   \n",
       "1  LP001003   Male     Yes          1      Graduate            No   \n",
       "2  LP001005   Male     Yes          0      Graduate           Yes   \n",
       "3  LP001006   Male     Yes          0  Not Graduate            No   \n",
       "4  LP001008   Male      No          0      Graduate            No   \n",
       "\n",
       "   ApplicantIncome  CoapplicantIncome  LoanAmount  Loan_Amount_Term  \\\n",
       "0             5849                0.0         NaN             360.0   \n",
       "1             4583             1508.0       128.0             360.0   \n",
       "2             3000                0.0        66.0             360.0   \n",
       "3             2583             2358.0       120.0             360.0   \n",
       "4             6000                0.0       141.0             360.0   \n",
       "\n",
       "   Credit_History Property_Area Loan_Status  \n",
       "0             1.0         Urban           Y  \n",
       "1             1.0         Rural           N  \n",
       "2             1.0         Urban           Y  \n",
       "3             1.0         Urban           Y  \n",
       "4             1.0         Urban           Y  "
      ]
     },
     "execution_count": 3,
     "metadata": {},
     "output_type": "execute_result"
    }
   ],
   "source": [
    "loan_df.head()"
   ]
  },
  {
   "cell_type": "markdown",
   "metadata": {},
   "source": [
    "从贷款数据样本中，可以观察得到数据的特征\n",
    "\n",
    "- **Loan_ID**：样本标号\n",
    "- **Gender**：贷款人性别 (Male/ Female)\n",
    "- **Married**：是否结婚 (Y/N)\n",
    "- **Dependents**：供养人数\n",
    "- **Education**: 受教育程度 (Graduate/ Not Graduate)\n",
    "- **Self_Employed**：是否自雇 (Y/N)\n",
    "- **ApplicantIncome**：申请人收入\n",
    "- **CoapplicantIncome**：联合申请人收入\n",
    "- **LoanAmount**：贷款金额（单位：千）\n",
    "- **Loan_Amount_Term**：贷款期限（单位：月）\n",
    "- **Credit_History**：历史信用是否达标（0/1）\n",
    "- **Property_Area**：居住地区（Urban/ Semi Urban/ Rural）\n",
    "- **Loan_Status**：是否批准（Y/N）\n",
    "---\n",
    "在我们即将构建的机器学习模型当中，**Loan_Status**将是模型训练的目标列"
   ]
  },
  {
   "cell_type": "markdown",
   "metadata": {},
   "source": [
    "### 1.2 数据统计信息"
   ]
  },
  {
   "cell_type": "code",
   "execution_count": 4,
   "metadata": {},
   "outputs": [
    {
     "data": {
      "text/html": [
       "<div>\n",
       "<style scoped>\n",
       "    .dataframe tbody tr th:only-of-type {\n",
       "        vertical-align: middle;\n",
       "    }\n",
       "\n",
       "    .dataframe tbody tr th {\n",
       "        vertical-align: top;\n",
       "    }\n",
       "\n",
       "    .dataframe thead th {\n",
       "        text-align: right;\n",
       "    }\n",
       "</style>\n",
       "<table border=\"1\" class=\"dataframe\">\n",
       "  <thead>\n",
       "    <tr style=\"text-align: right;\">\n",
       "      <th></th>\n",
       "      <th>ApplicantIncome</th>\n",
       "      <th>CoapplicantIncome</th>\n",
       "      <th>LoanAmount</th>\n",
       "      <th>Loan_Amount_Term</th>\n",
       "      <th>Credit_History</th>\n",
       "    </tr>\n",
       "  </thead>\n",
       "  <tbody>\n",
       "    <tr>\n",
       "      <th>count</th>\n",
       "      <td>614.000000</td>\n",
       "      <td>614.000000</td>\n",
       "      <td>592.000000</td>\n",
       "      <td>600.00000</td>\n",
       "      <td>564.000000</td>\n",
       "    </tr>\n",
       "    <tr>\n",
       "      <th>mean</th>\n",
       "      <td>5403.459283</td>\n",
       "      <td>1621.245798</td>\n",
       "      <td>146.412162</td>\n",
       "      <td>342.00000</td>\n",
       "      <td>0.842199</td>\n",
       "    </tr>\n",
       "    <tr>\n",
       "      <th>std</th>\n",
       "      <td>6109.041673</td>\n",
       "      <td>2926.248369</td>\n",
       "      <td>85.587325</td>\n",
       "      <td>65.12041</td>\n",
       "      <td>0.364878</td>\n",
       "    </tr>\n",
       "    <tr>\n",
       "      <th>min</th>\n",
       "      <td>150.000000</td>\n",
       "      <td>0.000000</td>\n",
       "      <td>9.000000</td>\n",
       "      <td>12.00000</td>\n",
       "      <td>0.000000</td>\n",
       "    </tr>\n",
       "    <tr>\n",
       "      <th>25%</th>\n",
       "      <td>2877.500000</td>\n",
       "      <td>0.000000</td>\n",
       "      <td>100.000000</td>\n",
       "      <td>360.00000</td>\n",
       "      <td>1.000000</td>\n",
       "    </tr>\n",
       "    <tr>\n",
       "      <th>50%</th>\n",
       "      <td>3812.500000</td>\n",
       "      <td>1188.500000</td>\n",
       "      <td>128.000000</td>\n",
       "      <td>360.00000</td>\n",
       "      <td>1.000000</td>\n",
       "    </tr>\n",
       "    <tr>\n",
       "      <th>75%</th>\n",
       "      <td>5795.000000</td>\n",
       "      <td>2297.250000</td>\n",
       "      <td>168.000000</td>\n",
       "      <td>360.00000</td>\n",
       "      <td>1.000000</td>\n",
       "    </tr>\n",
       "    <tr>\n",
       "      <th>max</th>\n",
       "      <td>81000.000000</td>\n",
       "      <td>41667.000000</td>\n",
       "      <td>700.000000</td>\n",
       "      <td>480.00000</td>\n",
       "      <td>1.000000</td>\n",
       "    </tr>\n",
       "  </tbody>\n",
       "</table>\n",
       "</div>"
      ],
      "text/plain": [
       "       ApplicantIncome  CoapplicantIncome  LoanAmount  Loan_Amount_Term  \\\n",
       "count       614.000000         614.000000  592.000000         600.00000   \n",
       "mean       5403.459283        1621.245798  146.412162         342.00000   \n",
       "std        6109.041673        2926.248369   85.587325          65.12041   \n",
       "min         150.000000           0.000000    9.000000          12.00000   \n",
       "25%        2877.500000           0.000000  100.000000         360.00000   \n",
       "50%        3812.500000        1188.500000  128.000000         360.00000   \n",
       "75%        5795.000000        2297.250000  168.000000         360.00000   \n",
       "max       81000.000000       41667.000000  700.000000         480.00000   \n",
       "\n",
       "       Credit_History  \n",
       "count      564.000000  \n",
       "mean         0.842199  \n",
       "std          0.364878  \n",
       "min          0.000000  \n",
       "25%          1.000000  \n",
       "50%          1.000000  \n",
       "75%          1.000000  \n",
       "max          1.000000  "
      ]
     },
     "execution_count": 4,
     "metadata": {},
     "output_type": "execute_result"
    }
   ],
   "source": [
    "loan_df.describe()"
   ]
  },
  {
   "cell_type": "markdown",
   "metadata": {},
   "source": [
    "观察数据情况可以得知：\n",
    "\n",
    "- LoanAmount、Loan_Amount_Term、Credit_History有明显的缺失值(count值比较小)，需要进行空值处理"
   ]
  },
  {
   "cell_type": "markdown",
   "metadata": {},
   "source": [
    "## 2. 数据处理"
   ]
  },
  {
   "cell_type": "markdown",
   "metadata": {},
   "source": [
    "### 2.1 重复值处理"
   ]
  },
  {
   "cell_type": "code",
   "execution_count": 5,
   "metadata": {},
   "outputs": [
    {
     "name": "stdout",
     "output_type": "stream",
     "text": [
      "数据集不存在重复样本\n"
     ]
    }
   ],
   "source": [
    "if loan_df[loan_df['Loan_ID'].duplicated()].shape[0] > 0:\n",
    "    print('数据集存在重复样本')\n",
    "else:\n",
    "    print('数据集不存在重复样本')"
   ]
  },
  {
   "cell_type": "markdown",
   "metadata": {},
   "source": [
    "### 2.2 缺失值处理"
   ]
  },
  {
   "cell_type": "code",
   "execution_count": 6,
   "metadata": {},
   "outputs": [
    {
     "name": "stdout",
     "output_type": "stream",
     "text": [
      "Loan_ID 空记录数为：0\n",
      "Gender 空记录数为：13\n",
      "Married 空记录数为：3\n",
      "Dependents 空记录数为：15\n",
      "Education 空记录数为：0\n",
      "Self_Employed 空记录数为：32\n",
      "ApplicantIncome 空记录数为：0\n",
      "CoapplicantIncome 空记录数为：0\n",
      "LoanAmount 空记录数为：22\n",
      "Loan_Amount_Term 空记录数为：14\n",
      "Credit_History 空记录数为：50\n",
      "Property_Area 空记录数为：0\n",
      "Loan_Status 空记录数为：0\n"
     ]
    }
   ],
   "source": [
    "cols = loan_df.columns.tolist()\n",
    "\n",
    "for col in cols:\n",
    "    empty_count = loan_df[col].isnull().sum()\n",
    "    print('{} 空记录数为：{}'.format(col, empty_count))"
   ]
  },
  {
   "cell_type": "code",
   "execution_count": 7,
   "metadata": {},
   "outputs": [
    {
     "name": "stdout",
     "output_type": "stream",
     "text": [
      "原始样本数为614，清理后的样本数为480\n"
     ]
    }
   ],
   "source": [
    "# 将存在空值的样本删除\n",
    "clean_loan_df = loan_df.dropna()\n",
    "print('原始样本数为{}，清理后的样本数为{}'.format(loan_df.shape[0], clean_loan_df.shape[0]))"
   ]
  },
  {
   "cell_type": "markdown",
   "metadata": {},
   "source": [
    "### 2.3 特殊值处理（某些特殊值转换成数值）\n",
    "数值列Dependents包含3+，将其全部转换为3"
   ]
  },
  {
   "cell_type": "code",
   "execution_count": 8,
   "metadata": {},
   "outputs": [],
   "source": [
    "# 可忽略SettingWithCopyWarning\n",
    "\n",
    "#clean_loan_df['Dependents'] == '3+' 返回行索引, 'Dependents'是列索引\n",
    "\n",
    "clean_loan_df.loc[clean_loan_df['Dependents'] == '3+', 'Dependents'] = 3"
   ]
  },
  {
   "cell_type": "markdown",
   "metadata": {},
   "source": [
    "### 2.4 特征数据和标签数据提取\n",
    "在该数据集中，共有以下三种特征列\n",
    "1. 数值型特征列\n",
    "    - **Dependents**：供养人数\n",
    "    - **ApplicantIncome**：申请人收入\n",
    "    - **CoapplicantIncome**：联合申请人收入\n",
    "    - **LoanAmount**：贷款金额（单位：千）\n",
    "    - **Loan_Amount_Term**：贷款期限（单位：月）\n",
    "2. 有序型特征\n",
    "    - **Education**: 受教育程度 (Graduate/ Not Graduate)\n",
    "    - **Credit_History**：历史信用是否达标（0/1）\n",
    "3. 类别型特征\n",
    "    - **Gender**：贷款人性别 (Male/ Female)\n",
    "    - **Married**：是否结婚 (Y/N)\n",
    "    - **Self_Employed**：是否自雇 (Y/N)\n",
    "    - **Property_Area**：居住地区（Urban/ Semi Urban/ Rural）"
   ]
  },
  {
   "cell_type": "code",
   "execution_count": 9,
   "metadata": {},
   "outputs": [],
   "source": [
    "# 按数据类型指定特征列\n",
    "# 1. 数值型特征列\n",
    "num_cols = ['Dependents', 'ApplicantIncome', 'CoapplicantIncome', 'LoanAmount', 'Loan_Amount_Term']\n",
    "\n",
    "# 2. 有序型特征\n",
    "ord_cols = ['Education', 'Credit_History']\n",
    "\n",
    "# 3. 类别型特征\n",
    "cat_cols = ['Gender', 'Married', 'Self_Employed', 'Property_Area']\n",
    "\n",
    "feat_cols = num_cols + ord_cols + cat_cols\n",
    "\n",
    "# 特征数据\n",
    "feat_df = clean_loan_df[feat_cols]\n",
    "\n",
    "#################################################################\n",
    "# TODO\n",
    "# 将标签Y转换为1，标签N转换为0\n",
    "# 并将结果保存至labels变量中\n",
    "# .....\n",
    "#################################################################\n",
    "labels=clean_loan_df['Loan_Status'].apply(lambda x: 1 if x=='Y' else 0)\n"
   ]
  },
  {
   "cell_type": "markdown",
   "metadata": {},
   "source": [
    "现在我们需要划分数据集为训练集和测试集"
   ]
  },
  {
   "cell_type": "code",
   "execution_count": 10,
   "metadata": {},
   "outputs": [
    {
     "name": "stdout",
     "output_type": "stream",
     "text": [
      "训练集有360条记录，测试集有120条记录\n"
     ]
    }
   ],
   "source": [
    "from sklearn.model_selection import train_test_split\n",
    "\n",
    "X_train, X_test, y_train, y_test = train_test_split(feat_df, labels, random_state=10, test_size=1/4)\n",
    "print('训练集有{}条记录，测试集有{}条记录'.format(X_train.shape[0], X_test.shape[0]))"
   ]
  },
  {
   "cell_type": "markdown",
   "metadata": {},
   "source": [
    "### 问题：\n",
    "train_test_split方法中的random_state参数有什么作用？"
   ]
  },
  {
   "cell_type": "markdown",
   "metadata": {},
   "source": [
    "相当于random.seed，设置随机数种子。如果指定值，那么每次划分就会得到一样的train-set和test-set。如果不指定，则以时间为种子\n",
    "每次得到的划分不同。"
   ]
  },
  {
   "cell_type": "markdown",
   "metadata": {},
   "source": [
    "## 4. 特征处理"
   ]
  },
  {
   "cell_type": "markdown",
   "metadata": {},
   "source": [
    "### 4.1 有序型特征处理"
   ]
  },
  {
   "cell_type": "markdown",
   "metadata": {},
   "source": [
    "有序型特征中Credit_History已经是数值，只需要转换Education列就即可：将Graduate转为1，Under Graduate转为0"
   ]
  },
  {
   "cell_type": "code",
   "execution_count": 11,
   "metadata": {},
   "outputs": [],
   "source": [
    "# 可忽略SettingWithCopyWarning\n",
    "# 在训练集上做处理\n",
    "X_train.loc[X_train['Education'] == 'Graduate', 'Education'] = 1\n",
    "X_train.loc[X_train['Education'] == 'Not Graduate', 'Education'] = 0\n",
    "\n",
    "# 在测试集上做处理\n",
    "X_test.loc[X_test['Education'] == 'Graduate', 'Education'] = 1\n",
    "X_test.loc[X_test['Education'] == 'Not Graduate', 'Education'] = 0\n",
    "\n",
    "# 获取有序型特征处理结果\n",
    "train_ord_feats = X_train[ord_cols].values\n",
    "test_ord_feats = X_test[ord_cols].values"
   ]
  },
  {
   "cell_type": "markdown",
   "metadata": {},
   "source": [
    "### 4.2 类别型特征处理"
   ]
  },
  {
   "cell_type": "code",
   "execution_count": 12,
   "metadata": {},
   "outputs": [],
   "source": [
    "from sklearn.preprocessing import LabelEncoder, OneHotEncoder\n",
    "import numpy as np\n",
    "\n",
    "def encode_cat_feats(train_df, test_df, col_name):\n",
    "    \"\"\"\n",
    "        对某列类别型数据进行编码\n",
    "    \"\"\"\n",
    "    # 类别型数据\n",
    "    train_cat_feat = X_train[col_name].values\n",
    "    test_cat_feat = X_test[col_name].values\n",
    "    \n",
    "    label_enc = LabelEncoder()\n",
    "    onehot_enc = OneHotEncoder(sparse=False)\n",
    "\n",
    "    # 在训练集上处理\n",
    "    proc_train_cat_feat = label_enc.fit_transform(train_cat_feat).reshape(-1, 1)\n",
    "    proc_train_cat_feat = onehot_enc.fit_transform(proc_train_cat_feat)\n",
    "\n",
    "    # 在测试集上处理\n",
    "    proc_test_cat_feat = label_enc.transform(test_cat_feat).reshape(-1, 1)\n",
    "    proc_test_cat_feat = onehot_enc.transform(proc_test_cat_feat)\n",
    "    \n",
    "    return proc_train_cat_feat, proc_test_cat_feat\n",
    "\n",
    "# 初始化编码处理后的特征\n",
    "enc_train_cat_feats = None\n",
    "enc_test_cat_feats = None\n",
    "\n",
    "# 对每个类别型特征进行编码处理\n",
    "for cat_col in cat_cols:\n",
    "    enc_train_cat_feat, enc_test_cat_feat = encode_cat_feats(X_train, X_test, cat_col)\n",
    "    # 在训练数据上合并特征\n",
    "    if enc_train_cat_feats is None:\n",
    "        enc_train_cat_feats = enc_train_cat_feat\n",
    "    else:\n",
    "        enc_train_cat_feats = np.hstack((enc_train_cat_feats, enc_train_cat_feat))\n",
    "        \n",
    "    # 在测试数据上合并特征\n",
    "    if enc_test_cat_feats is None:\n",
    "        enc_test_cat_feats = enc_test_cat_feat\n",
    "    else:\n",
    "        enc_test_cat_feats = np.hstack((enc_test_cat_feats, enc_test_cat_feat))"
   ]
  },
  {
   "cell_type": "markdown",
   "metadata": {},
   "source": [
    "### 问题：\n",
    "以上代码使用了LabelEncoder和OneHotEncoder来处理数据，这两者之间有什么区别呢？"
   ]
  },
  {
   "cell_type": "markdown",
   "metadata": {},
   "source": [
    "回答：\n",
    "LabeEncoder主要编码有序特征，有序性变成1开始的自然数的大小。OneHotEncoder主要编码无序的类别特征。"
   ]
  },
  {
   "cell_type": "markdown",
   "metadata": {},
   "source": [
    "### 4.3 数值型特征归一化\n",
    "将所有特征进行合并，然后进行范围归一化。"
   ]
  },
  {
   "cell_type": "code",
   "execution_count": 14,
   "metadata": {},
   "outputs": [
    {
     "name": "stdout",
     "output_type": "stream",
     "text": [
      "处理后的特征维度为 16\n"
     ]
    }
   ],
   "source": [
    "from sklearn.preprocessing import MinMaxScaler\n",
    "\n",
    "# 获取数值型特征\n",
    "train_num_feats = X_train[num_cols].values\n",
    "test_num_feats = X_test[num_cols].values\n",
    "\n",
    "# 合并序列型特征、类别型特征、数值型特征\n",
    "all_train_feats = np.hstack((train_ord_feats, enc_train_cat_feats, train_num_feats))\n",
    "all_test_feats = np.hstack((test_ord_feats, enc_test_cat_feats, test_num_feats))\n",
    "\n",
    "#################################################################\n",
    "# TODO\n",
    "# 数值归一化到0-1\n",
    "# 将处理后的训练特征保存到变量all_proc_train_feats中\n",
    "# 将处理后的测试特征保存到变量all_proc_test_feats中\n",
    "# .....\n",
    "#################################################################\n",
    "scaler = MinMaxScaler()\n",
    "all_proc_train_feats = scaler.fit_transform(all_train_feats)\n",
    "all_proc_test_feats = scaler.transform(all_test_feats )\n",
    "\n",
    "\n",
    "\n",
    "\n",
    "print('处理后的特征维度为', all_proc_train_feats.shape[1])"
   ]
  },
  {
   "cell_type": "markdown",
   "metadata": {},
   "source": [
    "## 5. 建立测试模型\n",
    "\n",
    "\n",
    "使用网格搜索（GridSearchCV）来调整模型的重要参数"
   ]
  },
  {
   "cell_type": "code",
   "execution_count": 15,
   "metadata": {},
   "outputs": [],
   "source": [
    "from sklearn.linear_model import LogisticRegression\n",
    "from sklearn.neighbors import KNeighborsClassifier\n",
    "from sklearn.tree import DecisionTreeClassifier\n",
    "from sklearn.svm import SVC\n",
    "from sklearn.model_selection import GridSearchCV\n",
    "import time\n",
    "\n",
    "def train_test_model(X_train, y_train, X_test, y_test, model_name, model, param_range):\n",
    "    \"\"\"\n",
    "        训练并测试模型\n",
    "        model_name:\n",
    "            kNN         kNN模型，对应参数为 n_neighbors\n",
    "            LR          逻辑回归模型，对应参数为 C\n",
    "            SVM         支持向量机，对应参数为 C\n",
    "            DT          决策树，对应参数为 max_depth\n",
    "            Stacking    将kNN, SVM, DT集成的Stacking模型， meta分类器为LR\n",
    "            AdaBoost    AdaBoost模型，对应参数为 n_estimators\n",
    "            GBDT        GBDT模型，对应参数为 learning_rate\n",
    "            RF          随机森林模型，对应参数为 n_estimators\n",
    "\n",
    "        根据给定的参数训练模型，并返回\n",
    "        1. 最优模型\n",
    "        2. 平均训练耗时\n",
    "        3. 准确率\n",
    "    \"\"\"\n",
    "    print('训练{}...'.format(model_name))\n",
    "    \n",
    "    #################################################################\n",
    "    # TODO\n",
    "    # 初始化网格搜索方法进行模型训练，使用5折交叉验证，保存到变量clf中\n",
    "    # .....\n",
    "    #################################################################\n",
    "    clf = GridSearchCV(model,param_range,cv=5)\n",
    "    start = time.time()\n",
    "    clf.fit(X_train, y_train)\n",
    "    # 计时\n",
    "    end = time.time()\n",
    "    duration = end - start\n",
    "    print('耗时{:.4f}s'.format(duration))\n",
    "\n",
    "    # 验证模型\n",
    "    train_score = clf.score(X_train, y_train)\n",
    "    print('训练准确率：{:.3f}%'.format(train_score * 100))\n",
    "\n",
    "    test_score = clf.score(X_test, y_test)\n",
    "    print('测试准确率：{:.3f}%'.format(test_score * 100))\n",
    "    print('训练模型耗时: {:.4f}s'.format(duration))\n",
    "\n",
    "    y_pred = clf.predict(X_test)\n",
    "\n",
    "    return clf, test_score, duration"
   ]
  },
  {
   "cell_type": "markdown",
   "metadata": {},
   "source": [
    "### 问题\n",
    "使用网格搜索的优点是什么？在什么情况下需要使用网格搜索？\n",
    "\n",
    "能准确找到一组最优超参数。当有多个超参数需要组合挑选时用。\n",
    "\n",
    "---"
   ]
  },
  {
   "cell_type": "code",
   "execution_count": 16,
   "metadata": {},
   "outputs": [
    {
     "name": "stdout",
     "output_type": "stream",
     "text": [
      "训练kNN...\n",
      "耗时0.1130s\n",
      "训练准确率：80.556%\n",
      "测试准确率：76.667%\n",
      "训练模型耗时: 0.1130s\n",
      "训练DT...\n",
      "耗时0.0509s\n",
      "训练准确率：91.111%\n",
      "测试准确率：77.500%\n",
      "训练模型耗时: 0.0509s\n",
      "训练LR...\n"
     ]
    },
    {
     "name": "stderr",
     "output_type": "stream",
     "text": [
      "/Users/apple/anaconda3/envs/tensorflow/lib/python3.6/site-packages/sklearn/model_selection/_search.py:841: DeprecationWarning: The default of the `iid` parameter will change from True to False in version 0.22 and will be removed in 0.24. This will change numeric results when test-set sizes are unequal.\n",
      "  DeprecationWarning)\n",
      "/Users/apple/anaconda3/envs/tensorflow/lib/python3.6/site-packages/sklearn/model_selection/_search.py:841: DeprecationWarning: The default of the `iid` parameter will change from True to False in version 0.22 and will be removed in 0.24. This will change numeric results when test-set sizes are unequal.\n",
      "  DeprecationWarning)\n"
     ]
    },
    {
     "name": "stdout",
     "output_type": "stream",
     "text": [
      "耗时0.1210s\n",
      "训练准确率：80.556%\n",
      "测试准确率：81.667%\n",
      "训练模型耗时: 0.1210s\n",
      "训练SVM...\n",
      "耗时0.2119s\n",
      "训练准确率：80.556%\n",
      "测试准确率：81.667%\n",
      "训练模型耗时: 0.2119s\n"
     ]
    }
   ],
   "source": [
    "#################################################################\n",
    "# TODO\n",
    "# 在model_name_param_dict中添加逻辑回归和SVM分类器，并指定相应的超参数及搜索范围\n",
    "lr_parameters = [0.01, 0.1, 1, 3, 5, 8, 12, 16]\n",
    "c_vals = [0.01, 0.1, 1, 10, 100]\n",
    "model_name_param_dict = {'kNN': (KNeighborsClassifier(),\n",
    "                                 {'n_neighbors': [1, 5, 15]}),\n",
    "                         'DT': (DecisionTreeClassifier(),\n",
    "                                {'max_depth': [10, 50, 100]}),\n",
    "                         'LR': (LogisticRegression(),\n",
    "                                {'C': lr_parameters}),\n",
    "                         'SVM':(SVC(),\n",
    "                                {'C': c_vals})\n",
    "                         }\n",
    "#################################################################\n",
    "\n",
    "# 比较结果的DataFrame\n",
    "results_df = pd.DataFrame(columns=['Accuracy (%)', 'Time (s)'],\n",
    "                          index=list(model_name_param_dict.keys()))\n",
    "results_df.index.name = 'Model'\n",
    "for model_name, (model, param_range) in model_name_param_dict.items():\n",
    "    _, best_acc, mean_duration = train_test_model(all_proc_train_feats, y_train, all_proc_test_feats, y_test,\n",
    "                                                        model_name, model, param_range)\n",
    "    results_df.loc[model_name, 'Accuracy (%)'] = best_acc * 100\n",
    "    results_df.loc[model_name, 'Time (s)'] = mean_duration"
   ]
  },
  {
   "cell_type": "markdown",
   "metadata": {},
   "source": [
    "### 结果可视化\n",
    "\n",
    "现在对比一下各个模型的效率和他们的准确率吧！"
   ]
  },
  {
   "cell_type": "code",
   "execution_count": 17,
   "metadata": {},
   "outputs": [
    {
     "data": {
      "image/png": "[encoded data removed]",
      "text/plain": [
       "<Figure size 720x288 with 2 Axes>"
      ]
     },
     "metadata": {
      "needs_background": "light"
     },
     "output_type": "display_data"
    }
   ],
   "source": [
    "# 结果可视化\n",
    "\n",
    "import matplotlib.pyplot as plt\n",
    "%matplotlib inline\n",
    "\n",
    "plt.figure(figsize=(10, 4))\n",
    "ax1 = plt.subplot(1, 2, 1)\n",
    "results_df.plot(y=['Accuracy (%)'], kind='bar', ylim=[10, 100], ax=ax1, title='Accuracy(%)', legend=False)\n",
    "\n",
    "ax2 = plt.subplot(1, 2, 2)\n",
    "results_df.plot(y=['Time (s)'], kind='bar', ax=ax2, title='Time(s)', legend=False)\n",
    "plt.tight_layout()\n",
    "plt.show()"
   ]
  },
  {
   "cell_type": "code",
   "execution_count": null,
   "metadata": {},
   "outputs": [],
   "source": []
  }
 ],
 "metadata": {
  "kernelspec": {
   "display_name": "Python 3",
   "language": "python",
   "name": "python3"
  },
  "language_info": {
   "codemirror_mode": {
    "name": "ipython",
    "version": 3
   },
   "file_extension": ".py",
   "mimetype": "text/x-python",
   "name": "python",
   "nbconvert_exporter": "python",
   "pygments_lexer": "ipython3",
   "version": "3.6.8"
  }
 },
 "nbformat": 4,
 "nbformat_minor": 2
}
