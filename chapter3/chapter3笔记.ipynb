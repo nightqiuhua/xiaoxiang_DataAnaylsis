{
 "cells": [
  {
   "cell_type": "code",
   "execution_count": null,
   "metadata": {},
   "outputs": [],
   "source": [
    "import pandas as pd\n",
    "import numpy as np\n",
    "%matplotlib inline"
   ]
  },
  {
   "cell_type": "code",
   "execution_count": null,
   "metadata": {},
   "outputs": [],
   "source": [
    "a = pd.Series([1,2,'3'])\n",
    "print(type(a))\n",
    "b = np.array([[1,2,3],[4,5,6]])"
   ]
  },
  {
   "cell_type": "code",
   "execution_count": null,
   "metadata": {},
   "outputs": [],
   "source": [
    "print(b.sum())\n",
    "print(b.std())\n",
    "print(b.mean())\n",
    "print(b.max())\n",
    "print(b.min())\n",
    "print(b.argmax())   #没有把ndarray看成矩阵，只是多个列表的组合\n",
    "print(b.argmin())\n",
    "#这些科学函数对series也是一样的"
   ]
  },
  {
   "cell_type": "code",
   "execution_count": null,
   "metadata": {},
   "outputs": [],
   "source": [
    "a = np.array([1,2])\n",
    "b = np.array([2,1])\n",
    "print(a&b)"
   ]
  },
  {
   "cell_type": "code",
   "execution_count": null,
   "metadata": {},
   "outputs": [],
   "source": [
    "#条件索引数组： 通过设置一个条件(可以是复合的)把ndaray中符合(或者不符合)的元素选择出来\n",
    "a = np.array([0.5,1.2,2.3,3.8])\n",
    "cond = (a>1)&(a<3)\n",
    "#条件索引数组的每个元素都是true/false,对应被索引的下标是否被选出\n",
    "#矢量与标量运算结果还是矢量\n",
    "a[cond == True]#相同条件筛选\n",
    "a[cond == False]#相反条件筛选\n",
    "a[cond==True].sum() #满足条件的元素个数\n",
    "\n",
    "#series和dataframe亦能使用条件索引,索引出值为true的一行\n",
    "b = pd.Series([2,3,4,5,6])\n",
    "cond2 = [True, False, True, False,False]\n",
    "b[cond2]\n",
    "c = pd.DataFrame({'A':[1,2,3,4,5],\n",
    "                  'B':[6,7,8,9,10],\n",
    "                  'C':[11,12,13,14,15],\n",
    "                  'D':[16,17,181,9,20],\n",
    "                  'E':[22,33,44,55,66]})\n",
    "c[cond2]"
   ]
  },
  {
   "cell_type": "markdown",
   "metadata": {},
   "source": [
    "对于Numpy array切片的修改，是原地操作，会影响原有array。<br>\n",
    "对于Python List切片的修改，是非原地操作，不会影响原有List。<br>\n",
    "所以对nadarray切片时要小心，因为会修改原值。<br>"
   ]
  },
  {
   "cell_type": "code",
   "execution_count": null,
   "metadata": {},
   "outputs": [],
   "source": [
    "#原地操作\n",
    "a = np.array([1,2,3,4])\n",
    "b = a\n",
    "a = a + np.array([1,1,1,1])\n",
    "print(b)\n",
    "c = 3\n",
    "d = c\n",
    "c = c+3\n",
    "print(d)\n",
    "#由此可见不论对np数组还是普通元素，+=是原地操作，先+后=是用了一块新的内存\n",
    "e = a[:2]\n",
    "e[0] = -10\n",
    "print(a)\n"
   ]
  },
  {
   "cell_type": "markdown",
   "metadata": {},
   "source": [
    "random.rand(a,b)\n",
    "根据给定维度生成[0,1)之间的数据\n",
    "<br>\n",
    "random.randn()\n",
    "根据给定维度（不给维度时为单个数），产生符合标准正态分布的随机数，可以自己组装成符合需求的正态分布\n",
    "<br>\n",
    "random.normal()\n",
    "产生可定义均值和标准差的正态分布随机数\n",
    "<br>\n",
    "random.randint()\n",
    "返回给定维度的随机整数\n",
    "<br>\n",
    "random.random((a,b)) 等价于 random.random_sample()\n",
    "返回给定维度的[0, 1)之间的随机数。功能和random.rand()一样，但是rand()更简单\n",
    "<br>\n",
    "random.choice(a,b)\n",
    "从给定的一维数组np.arange(a)中生成b个随机数。每次抽取是有放回的\n",
    "<br>\n",
    "random.seed()\n",
    "当设置相同的seed，每次生成的随机数相同。如果不设置seed，则每次会生成不同的随机数"
   ]
  },
  {
   "cell_type": "code",
   "execution_count": null,
   "metadata": {},
   "outputs": [],
   "source": [
    "\n",
    "#自定义索引\n",
    "a = pd.Series([23,39,94,2],index=[\"m\",\"i\",\"k\",\"u\"])\n",
    "a.loc[\"m\"]\n",
    "a.idxmin()\n",
    "a[1]\n",
    "a.sort_values(ascending=False) #默认递增,即ascending=True"
   ]
  },
  {
   "cell_type": "markdown",
   "metadata": {},
   "source": [
    "通过位置（类似于下标）访问Series元素\n",
    "[]\n",
    "<br>\n",
    "通过索引访问Series元素(自定义索引时)\n",
    ".loc[]\n",
    "<br>\n",
    "idxmax()/argmax()方法返回最大值对应的索引,min同理\n",
    "<br>\n",
    "sort_values() 排序"
   ]
  },
  {
   "cell_type": "code",
   "execution_count": null,
   "metadata": {},
   "outputs": [],
   "source": [
    "#Series向量运算，比ndarray复杂因为不是位置对应的元素做运算，而是索引对应的元素做运算\n",
    "a = pd.Series([23,39,94,2],index=[\"m\",\"i\",\"k\",\"u\"])\n",
    "b = pd.Series([1,2,3,4],index=[\"i\",\"m\",\"k\",\"u\"])\n",
    "a+b\n",
    "b = pd.Series([1,2,3,4],index=[\"i\",\"m\",\"k\",\"o\"])\n",
    "a+b\n",
    "#此时有索引不同时出现在两个数组里，则它们对应的值均为NaN: o     NaN    u     NaN"
   ]
  },
  {
   "cell_type": "code",
   "execution_count": null,
   "metadata": {},
   "outputs": [],
   "source": [
    "'''\n",
    "对于每个Series中的元素，应用到apply所传入的函数上。\n",
    "a.apply(func)\n",
    "'''\n",
    "a = pd.Series([23,39,4,2],index=[\"m\",\"i\",\"k\",\"u\"])\n",
    "def func(n):\n",
    "    if n>10:\n",
    "        return n/3\n",
    "    else:\n",
    "        return n\n",
    "#这里要记得把else的情况也返回，否则被“过滤掉”的那些元素最终结果是NaN\n",
    "#我讨厌NaN !\n",
    "a.apply(func)"
   ]
  },
  {
   "cell_type": "code",
   "execution_count": null,
   "metadata": {},
   "outputs": [],
   "source": [
    "'''\n",
    "a.dropna()\n",
    "将NAN元素去除。\n",
    "a.fillna(x)\n",
    "用x统一填充NaN\n",
    "a.add(b,fill_value=X)\n",
    "使用自定义填充值填充最终结果。\n",
    "'''\n",
    "a = pd.Series([23,39,94,2],index=[\"m\",\"i\",\"k\",\"u\"])\n",
    "b = pd.Series([1,2,3,4],index=[\"i\",\"m\",\"k\",\"o\"])\n",
    "a.add(b,fill_value=1) #这里，如果对方没有我方的索引时就用指定值代替对方索引的值，如果用0就能保证我方值不变"
   ]
  },
  {
   "cell_type": "code",
   "execution_count": null,
   "metadata": {},
   "outputs": [],
   "source": [
    "%matplotlib inline\n",
    "#Series画图，自带Series.plot.xxx()方法\n",
    "s = pd.Series(np.random.randn(20),name=\"test\")\n",
    "#s.plot.kde() #概率密度\n",
    "#s.plot.bar() #柱状图，表示变量的具体数值\n",
    "s.plot.hist() #直方图，表示；落在一个范围内的值有多少个\n",
    "s.plot.box() #箱线图\n",
    "\n",
    "s.plot(kind=\"pie\") #这种写法也行\n"
   ]
  },
  {
   "cell_type": "code",
   "execution_count": null,
   "metadata": {},
   "outputs": [],
   "source": [
    "#多维数组\n",
    "#ndarray，和正常的ndarray差不多，访问方式（i,j）\n",
    "a = np.array([[1,2,3,4,5,],[6,7,8,9,10,]])\n",
    "a[1] #取一行\n",
    "a[:,1]#取一列\n",
    "a[1].argmax #取一行最大值的下标\n",
    "a[1].mean() #求一行的平均值（内置科学计算之一）\n",
    "#总之就是下标+计算，向量思维\n",
    "b = a.mean(axis=0) #axis=0,按列计算，按列：每次在一个列上计算，然后列+1\n",
    "c = a.mean(axis=1) #axis=1.按行计算，按行：每次在一个行上计算，然后行+1\n",
    "type(b) #ndarray的各种计算结果也是ndarray\n",
    "b.argmax() #搜索\n",
    "\n",
    "#dataframe，就是表格，有行、列索引名（表头），至少定义列索引,行索引index没有自定义的话自动0——\n",
    "df_1 = pd.DataFrame({'A': [0, 1, 2], 'B': [3, 4, 5],'C':[6, 7, 8]},index=[\"miku\",\"rin\",\"luka\"]) #A B是列索引.index是行索引\n",
    "df_1\n",
    "df_2 = pd.DataFrame([[0, 1, 2], [3, 4, 5]], columns=['A', 'B', 'C'], index=[\"miku\", \"rin\"])\n",
    "df_2\n",
    "\n",
    "#从dataframe里取一行一列出来就是series数组\n",
    "\n",
    "'''\n",
    "对于某行变成Series来说，原来DataFrame的列标签会成为其索引；对于某列变成的Series来说，原来DataFrame的行索引会成为其索引\n",
    "'''\n",
    "#取一行：loc[],iloc[]\n",
    "df_1.loc['miku']\n",
    "df_1.iloc[1]\n",
    "#取一列\n",
    "df_1[\"A\"]\n",
    "#去掉行，列索引，退化成二维ndarray\n",
    "df_1.values  \n",
    "#dataframe的轴\n",
    "df_1.mean(axis=1)\n",
    "#转置\n",
    "df_1.T\n",
    "#reshape: dataframe没有直接的reshape方法，通过values中转一下\n",
    "pd.DataFrame(df_2.values.reshape(2,3))\n",
    "\n",
    "#加载csv，构建dataframe\n",
    "#df = pd.read_csv(\"\",index_col=\"X\"),可指定列标签为X的一列作为行索引。正常列索引就是列标签\n",
    "\n",
    "\n",
    "#dataframe向量化计算\n",
    "\n",
    "df_3 = pd.DataFrame({'D': [0, 1, 2], 'B': [3, 4, 5],'A':[6,7,8]},index=[\"miku\",\"rin\",\"luka\"])\n",
    "df_1 + df_3 #和series一样因为有的列索引只有单方持有所以会出现NAN\n",
    "df_4 = pd.DataFrame({'A': [0, 1, 2], 'B': [3, 4, 5],'C':[6,7,8]},index=[\"p\",\"miku\",\"f\"])\n",
    "df_1 + df_4 #行索引同理\n",
    "df_1.shift(1) #行列索引不变，但是所有数值以行为单位整体向下移1行，最上面的行补NAN\n",
    "df_1-df_1.shift(1) #整体求差值，即相当于对全局计算下一行-上一行的值\n",
    "\n",
    "df_1.applymap(lambda x: 'big' if x>3 else 'small' ) #和series的apply(func)一样的操作，lambda表达式可以完成一定功能,lambda没有return语句直接用数值代替\n",
    "'''\n",
    "apply(func, axis=):将每列经过转换成新的列或者值\n",
    "func()接受行/列 series数组作为参数\n",
    "与applymap的区别：appplymap里的func以每个元素为参数\n",
    "'''\n",
    "df_1.apply(lambda x: x.sum()) #列->数值\n",
    "df_1.apply(lambda x: 2*x)     #列->新列\n",
    "df_1.apply(lambda x: 2*x, axis=1)  #行->新行\n",
    "\n",
    "#dataframe与series运算：df.add/sub/mul/div(s,axis=)\n",
    "'''\n",
    "axis=0，就是按列运算。series的索引与dataframe的列索引向对应，如果存在，就把series与列向量运算。（竖着来）。如果不存在，则构建不存在\n",
    "的索引对应的列，没有被共有的列索引对应列是NaN\n",
    "默认axis=1，就是按行运算。series的索引与dataframe的行索引向对应，如果存在，就把series和行向量运算。（横着来）。如果不存在，则构建不存在\n",
    "的索引对应的行，没有被共有行索引对应行是NaN\n",
    "'''\n",
    "s1 = pd.Series([10,11,12,13],index=[\"A\",\"B\",\"C\",\"D\"])\n",
    "df_1.mul(s1)\n",
    "\n",
    "\n"
   ]
  },
  {
   "cell_type": "code",
   "execution_count": null,
   "metadata": {},
   "outputs": [],
   "source": [
    "df_5 = pd.DataFrame({'A': [0, 1, 2,3,1], 'B': [3, 4, 5,3,8],'C':[6,7,8,7,7]},index=[\"p\",\"miku\",\"f\",\"ll\",\"pp\"])\n",
    "df_5.groupby(\"A\").sum()  #把某列数值抽出来当行索引，并合并重复项.就是按照指定的维度（指定某列）分组"
   ]
  },
  {
   "cell_type": "markdown",
   "metadata": {},
   "source": [
    "https://blog.csdn.net/weixin_37226516/article/details/64137043    merge/join的用法"
   ]
  },
  {
   "cell_type": "code",
   "execution_count": null,
   "metadata": {},
   "outputs": [],
   "source": [
    "df = pd.DataFrame({'id': ['a','b','c','d','a'], 'num': [30, 44, 115,739,800],'read':[True,False,True,False,False]})\n",
    "#新增2行：append\n",
    "new_rows = pd.DataFrame([('f',972,True),('g',2233,False)],columns=['id','num','read'])\n",
    "df.append(new_rows,ignore_index=True) #true保证了新插入行的行索引在旧的基础上增加\n",
    "\n",
    "#新增2列：关联法。相当于两个dataframe融合，必须有一列是两个dataframe共有的，作为参照基准\n",
    "df_new = pd.DataFrame({'id': ['a','b','c','d','e'], 'num': [1,2,3,4,5],'name':['miku','rin','ren','luka','IA'], 'date':['Mon','Wen','Fri','Fri','Sat']})\n",
    "df_merge = df.merge(df_new,on=\"id\",how=\"left\") #以id作为参照标准,并用新变量记录动作\n",
    "print(df_merge)\n",
    "\n",
    "#我们用join就是喜欢用它的行索引做关联，其他用merge就行\n",
    "#join合并的参照基准是行索引。被join的dataframe通过On指定一列，把join的dataframe行索引与列的值相同的那行进行合并\n",
    "df_new_ = df_new.set_index(\"id\") #把id变成行索引，和groupby类似但是并没有合并重复项操作\n",
    "print(df_new_)\n",
    "df_ = df.join(df_new_, on=\"id\", lsuffix='L',rsuffix='R') #如果存在相同的列索引，join不会像merge一样自动重新取名，需要我们手动设定名字\n",
    "print(df_)\n",
    "df.shape\n"
   ]
  },
  {
   "cell_type": "markdown",
   "metadata": {},
   "source": [
    "df.set_index(\"id\").join(df_new.set_index(\"id\")) <br>\n",
    "如果只有一列重复，也可以把重复列指定为行索引之后再join"
   ]
  },
  {
   "cell_type": "code",
   "execution_count": null,
   "metadata": {},
   "outputs": [],
   "source": [
    "\n",
    "df = pd.DataFrame({'id': ['a','b','c','d','a'], 'num': [30, 44, 115,739,800],'read':[12,345,5377,90876,3]})\n",
    "df = df.set_index(\"id\") #用id作为行索引\n",
    "df.plot(subplots=True) #直接画每列的折线图，并决定是否对每列启用单独子图\n",
    "df.plot.scatter(x='num',y='read') #指定使用为坐标的两个列\n",
    "df.plot.hist()\n",
    "df.plot.bar()\n",
    "df.plot.box()\n",
    "df.plot.kde()\n",
    "df.plot.pie(y='num' ,figsize=(6,6)) #y就是抽取列标签为y的列画图\n",
    "'''\n",
    "数据透视表： 指定行，列索引x,y分别为原来的列索引，把其他列/其他所有列作为（x,y）的值放入\n",
    "对指定列进行转换\n",
    "df.pivot(index='Item', columns='CType', values='RMB')\n",
    "对所有列进行转换\n",
    "df.pivot(index='Item', columns='CType')\n",
    "如果某一格存在冲突：pivot_table(index, columns=,values=,aggfunc=np.min) aggfunc定义了冲突时使用哪个数值\n",
    "'''"
   ]
  }
 ],
 "metadata": {
  "kernelspec": {
   "display_name": "Python 3",
   "language": "python",
   "name": "python3"
  },
  "language_info": {
   "codemirror_mode": {
    "name": "ipython",
    "version": 3
   },
   "file_extension": ".py",
   "mimetype": "text/x-python",
   "name": "python",
   "nbconvert_exporter": "python",
   "pygments_lexer": "ipython3",
   "version": "3.6.8"
  }
 },
 "nbformat": 4,
 "nbformat_minor": 2
}
