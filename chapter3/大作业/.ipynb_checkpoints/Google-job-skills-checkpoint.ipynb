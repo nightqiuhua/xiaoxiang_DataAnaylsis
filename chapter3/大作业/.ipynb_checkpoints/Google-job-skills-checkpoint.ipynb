{
 "cells": [
  {
   "cell_type": "markdown",
   "metadata": {},
   "source": [
    "# 小象学院实践课程\n",
    "## Numpy & Pandas\n",
    "## Google工作数据\n",
    "\n",
    "这个项目中，我们将处理以csv文件格式存储的数据。数据为从https://careers.google.com/ 爬取的google招聘职位需求。\n",
    "\n",
    "Google是技术人员梦寐以求的工作圣地，想进入Google，需要什么样的条件？Google在哪些地区有招聘机会？我们一起探索。\n",
    "\n",
    "> **提示**：这样的文字将会指导你如何使用 jupyter Notebook 来完成项目。你可以通过单击代码区域，然后使用键盘快捷键 Shift+Enter 或 Shift+Return 来运行代码。或者在选择代码后使用执行（run cell）按钮执行代码。Markdown的文字区域也同样可以如此操作。\n",
    "\n",
    "> 在如下有**# TODO** 提示的地方，将代码补全，实现注释中所要求的功能。\n",
    "\n",
    "> 在有\"** 回答：**\" 提示的地方，回答其上所提出的问题。"
   ]
  },
  {
   "cell_type": "markdown",
   "metadata": {},
   "source": [
    "### 载入文件\n",
    "\n",
    "我们尝试使用Pandas的read_csv载入数据，并查看前面的几行内容。"
   ]
  },
  {
   "cell_type": "code",
   "execution_count": null,
   "metadata": {},
   "outputs": [],
   "source": [
    "import pandas as pd\n",
    "\n",
    "file = \"./data/job_skills.csv\"\n",
    "\n",
    "df = pd.read_csv(file)\n",
    "\n",
    "df.head()"
   ]
  },
  {
   "cell_type": "markdown",
   "metadata": {},
   "source": [
    "从天气数据样本中，我们可以看到数据的一些特征\n",
    "\n",
    "- **Company**：公司名字，这里绝大部分是Google\n",
    "- **Title**：工作头衔\n",
    "- **Category**：职位类别\n",
    "- **Location**：工作地点\n",
    "- **Responsibilities**: 职责\n",
    "- **Minimum Qualifications**：最低要求\n",
    "- **Preferred Qualifications**：加分项"
   ]
  },
  {
   "cell_type": "markdown",
   "metadata": {},
   "source": [
    "### 技能语言排名\n",
    "\n",
    "尝试在Minimum Qualifications中，查找各编程语言出现的次数。\n",
    "\n",
    "我们考察的语言包括python、java、c++、php、javascript、object-C、ruby、perl、c、c#、sql、swift、scala、r。"
   ]
  },
  {
   "cell_type": "code",
   "execution_count": null,
   "metadata": {},
   "outputs": [],
   "source": [
    "lang_list = ['python', 'java', 'c++', 'php', 'javascript', 'objective-c', \n",
    "             'ruby', 'perl', 'c', 'c#', 'sql', 'swift', 'scala', 'r']\n",
    "\n",
    "for lang in lang_list:\n",
    "    lang_list.append(lang.title())\n",
    "    \n",
    "lang_list"
   ]
  },
  {
   "cell_type": "code",
   "execution_count": null,
   "metadata": {},
   "outputs": [],
   "source": [
    "import re\n",
    "# 定义语言列表\n",
    "lang_list = ['python', 'java', 'c++', 'php', 'javascript', 'objective-c', \n",
    "             'ruby', 'perl', 'c', 'c#', 'sql', 'swift', 'scala', 'r']\n",
    "\n",
    "for lang in lang_list:\n",
    "    lang_list.append(lang.title())\n",
    "    \n",
    "print(lang_list)\n",
    "\n",
    "# 定义统计函数，输入字符串，从中提取包含的‘python’、'java'等语言单词的次数\n",
    "def lang_count(miniumum_qualifications_string, lang_dict):\n",
    "    '''该函数被以下all_lang_count调用，统计lang_dict中已经有的key在miniumum_qualifications_string中出现的次数。\n",
    "    \n",
    "       输入：\n",
    "           miniumum_qualifications_string：str类型，被查询的字符串（）\n",
    "    '''\n",
    "    # TODO\n",
    "    # 从miniumum_qualifications_string中提取单词（可以参考Python正则表达式文档： https://docs.python.org/3/library/re.html）\n",
    "    # 将如下re.sqlit中的第一个参数修改为正确的表达式\n",
    "    for w in re.split(' ', miniumum_qualifications_string):\n",
    "        # TODO\n",
    "        # 如果单词为lang_list中的某一种语言（注意单词大小写问题），将字典lang_dict对应项累加\n",
    "        if w in lang_list: lang_dict[w] += 1\n",
    "        \n",
    "        \n",
    "\n",
    "def all_lang_count(df):\n",
    "    '''统计Minimum Qualifications列的内容中，语言出现的次数\n",
    "    \n",
    "       输入：\n",
    "           df：DataFrame，其中包含Minimum Qualifications列。\n",
    "    \n",
    "       输出：\n",
    "           字典类型，其中key为语言名字如'python'、'java'等，value为单词在Minimum Qualifications中出现的次数。\n",
    "    '''\n",
    "    # TODO\n",
    "    # 初始化字典变量lang_dict, 以lang_list中的语言名字为key，出现次数为0\n",
    "    lang_dict = dict()\n",
    "    for lang in lang_list:\n",
    "        lang_dict[lang] = 0\n",
    "    # 对于Minimum Qualifications列中的每一项，调用lang_count方法\n",
    "    for word in df['Minimum Qualifications']:\n",
    "        lang_count(str(word), lang_dict)\n",
    "    \n",
    "    return lang_dict\n",
    "\n",
    "lang_dict = all_lang_count(df)\n",
    "\n",
    "print(lang_dict)"
   ]
  },
  {
   "cell_type": "code",
   "execution_count": null,
   "metadata": {},
   "outputs": [],
   "source": [
    "# TODO\n",
    "# 对lang_dict.items()按照value所对应项进行排序并生成到新的列表变量lang_sorted中\n",
    "lang_sorted = None\n",
    "\n",
    "# 根据计算出的lang_sorted生成新的DataFrame\n",
    "df_lang_sorted = pd.DataFrame(lang_sorted, columns = ['Language', 'Pop'])\n",
    "\n",
    "# TODO\n",
    "# 将Language设置为df_lang_sorted的index以便绘图时作为横坐标标签\n",
    "\n",
    "\n",
    "# 绘制df_lang_sorted柱形图\n",
    "df_lang_sorted.plot.bar()\n"
   ]
  },
  {
   "cell_type": "markdown",
   "metadata": {},
   "source": [
    "从图形结果当中，我们可以看到，需求量排名前三的语言是哪些？\n",
    "\n",
    "** 回答：**"
   ]
  },
  {
   "cell_type": "markdown",
   "metadata": {},
   "source": [
    "### 更仔细的探索数据\n",
    "\n",
    "对数据进行初步的统计得到以上结果，看起来比较惊喜。\n",
    "\n",
    "让我们仔细看看一些数据的细节。\n",
    "\n",
    "首先，检查下数据中包含多少空值。"
   ]
  },
  {
   "cell_type": "code",
   "execution_count": null,
   "metadata": {},
   "outputs": [],
   "source": [
    "pd.isnull(df).sum()"
   ]
  },
  {
   "cell_type": "markdown",
   "metadata": {},
   "source": [
    "#### 去除空值项"
   ]
  },
  {
   "cell_type": "code",
   "execution_count": null,
   "metadata": {},
   "outputs": [],
   "source": [
    "df = df.dropna()\n",
    "df.describe()"
   ]
  },
  {
   "cell_type": "markdown",
   "metadata": {},
   "source": [
    "#### 观察一下Company列\n",
    "\n",
    "在执行df.head结果之后，我们可以发现Company列中的unique为2，这里除了Google，还有另外一家公司。\n",
    "\n",
    "看看另一家是什么："
   ]
  },
  {
   "cell_type": "code",
   "execution_count": null,
   "metadata": {},
   "outputs": [],
   "source": [
    "df['Company'].value_counts()"
   ]
  },
  {
   "cell_type": "markdown",
   "metadata": {},
   "source": [
    "可以看到这里还有一家是YouTube，也是被Google收购了的金牌雇主。\n",
    "\n",
    "为了分析，先不管这么多，把YouTube相关的行数据去掉。"
   ]
  },
  {
   "cell_type": "code",
   "execution_count": null,
   "metadata": {},
   "outputs": [],
   "source": [
    "# TODO\n",
    "# 去掉df中Company列为YouTube的数据\n",
    "df = None\n",
    "\n",
    "df.describe()"
   ]
  },
  {
   "cell_type": "markdown",
   "metadata": {},
   "source": [
    "#### 观察其它列的大概状况"
   ]
  },
  {
   "cell_type": "code",
   "execution_count": null,
   "metadata": {},
   "outputs": [],
   "source": [
    "# Title列\n",
    "df['Title'].value_counts()"
   ]
  },
  {
   "cell_type": "code",
   "execution_count": null,
   "metadata": {},
   "outputs": [],
   "source": [
    "# TODO\n",
    "# 使用value_counts观察Location列的统计状况，注意，只列出前20项\n"
   ]
  },
  {
   "cell_type": "code",
   "execution_count": null,
   "metadata": {},
   "outputs": [],
   "source": [
    "# TODO\n",
    "# 使用value_counts观察Category列的统计状况，注意，只列出前20项\n"
   ]
  },
  {
   "cell_type": "markdown",
   "metadata": {},
   "source": [
    "### 工作年限\n",
    "\n",
    "#### 粗略计算"
   ]
  },
  {
   "cell_type": "code",
   "execution_count": null,
   "metadata": {},
   "outputs": [],
   "source": [
    "from collections import defaultdict\n",
    "\n",
    "# 使用defaultdict构建value默认值为0的字典\n",
    "years_exp = defaultdict(lambda: 0)\n",
    "\n",
    "# 定义统计函数，输入字符串，从中提取包含的xxx year字样的情况下期中xxx所描述的数字\n",
    "def compute_years_exp(miniumum_qualifications_string):\n",
    "    # 从miniumum_qualifications_string中提取xxx year中的xxx（可以参考Python正则表达式文档： https://docs.python.org/3/library/re.html）\n",
    "    # 然后以年数（xxx）为key，将years_exp中的相应元素value加1。\n",
    "    for w in re.findall(r'([0-9]+) year', miniumum_qualifications_string):\n",
    "        years_exp[w] += 1\n",
    "        \n",
    "# 对于Minimum Qualifications列中的每一项，调用lang_count方法\n",
    "for word in df['Minimum Qualifications']:\n",
    "    compute_years_exp(str(word))\n",
    "    \n",
    "print(dict(years_exp))\n"
   ]
  },
  {
   "cell_type": "code",
   "execution_count": null,
   "metadata": {},
   "outputs": [],
   "source": [
    "# TODO\n",
    "# 对dict(years_exp)按照value进行排序并生成到新的列表变量years_exp_sorted中\n",
    "years_exp_sorted = None\n",
    "\n",
    "# TODO\n",
    "# 根据计算出的years_exp_sorted生成新的DataFrame，列名为Years以及Pop\n",
    "df_years_exp_sorted = None\n",
    "\n",
    "# TODO\n",
    "# 将Years设置为df_years_exp_sorted的index以便绘图时作为横坐标标签\n",
    "\n",
    "\n",
    "# 绘制df_years_exp_sorted柱形图\n",
    "df_years_exp_sorted.plot.bar()\n"
   ]
  },
  {
   "cell_type": "markdown",
   "metadata": {},
   "source": [
    "从图形结果当中，我们可以看到，需求量排名前二的工作经验年限是什么？\n",
    "\n",
    "** 回答：**"
   ]
  },
  {
   "cell_type": "markdown",
   "metadata": {},
   "source": [
    "#### 逐行处理\n",
    "\n",
    "针对每一行，生成一个新列Minimum_years_experience，从当前行的Minimum Qualifications列中，提取xxx year 字样前面的xxx"
   ]
  },
  {
   "cell_type": "code",
   "execution_count": null,
   "metadata": {},
   "outputs": [],
   "source": [
    "# TODO\n",
    "# 生成df['Minimum_years_experience']，每行元素为对应行的Minimum Qualifications这列中xxx year 字样前面的xxx。\n",
    "# df['Minimum_years_experience']每个元素的类型为列表\n",
    "df['Minimum_years_experience'] = None\n",
    "\n",
    "df.head()"
   ]
  },
  {
   "cell_type": "markdown",
   "metadata": {},
   "source": [
    "从结果中，我们可以看出，某些行会提取出多个数字，某些行却一个数字也提取不出来，需要做进一步处理。"
   ]
  },
  {
   "cell_type": "markdown",
   "metadata": {},
   "source": [
    "#### 空值填充\n",
    "\n",
    "将df['Minimum_years_experience']中的[]转换成[0]"
   ]
  },
  {
   "cell_type": "code",
   "execution_count": null,
   "metadata": {},
   "outputs": [],
   "source": [
    "# TODO\n",
    "# 将df['Minimum_years_experience']中的[]转换成[0]，（提示：可以使用apply）\n",
    "df['Minimum_years_experience'] = None\n",
    "\n",
    "df.head()"
   ]
  },
  {
   "cell_type": "markdown",
   "metadata": {},
   "source": [
    "#### 处理多值\n",
    "\n",
    "当df['Minimum_years_experience']中出现多个元素时，比如[x, y, z]，将df['Minimum_years_experience']转换成[max(x, y, z)]"
   ]
  },
  {
   "cell_type": "code",
   "execution_count": null,
   "metadata": {},
   "outputs": [],
   "source": [
    "# TODO\n",
    "# 当df['Minimum_years_experience']中出现多个元素时，比如[x, y, z]，将df['Minimum_years_experience']转换成[max(x, y, z)]\n",
    "df['Minimum_years_experience'] = None\n",
    "\n",
    "df.head()"
   ]
  },
  {
   "cell_type": "code",
   "execution_count": null,
   "metadata": {},
   "outputs": [],
   "source": [
    "# TODO\n",
    "# 基于df['Minimum_years_experience']数据，绘制箱线图。\n",
    "# 注意：如果元素类型非数值类型，绘制箱线图会失败，需要使用astype对元素类型进行转换。\n"
   ]
  },
  {
   "cell_type": "markdown",
   "metadata": {},
   "source": [
    "从箱线图结果看，需求的工作年限的中位数是多少？\n",
    "\n",
    "** 回答：**"
   ]
  },
  {
   "cell_type": "markdown",
   "metadata": {},
   "source": [
    "### 查看分析师岗位相关数据\n",
    "\n",
    "我们从Title中查找包含'Analyst'关键字的职位需求。"
   ]
  },
  {
   "cell_type": "code",
   "execution_count": null,
   "metadata": {},
   "outputs": [],
   "source": [
    "# TODO\n",
    "# 从Title中查找包含'Analyst'关键字的职位，存储到df_Analyst中。\n",
    "df_Analyst = None\n",
    "\n",
    "df_Analyst.head()"
   ]
  },
  {
   "cell_type": "code",
   "execution_count": null,
   "metadata": {},
   "outputs": [],
   "source": [
    "# 查看下分析师需求的位置分布情况\n",
    "df_Analyst['Location'].value_counts()"
   ]
  },
  {
   "cell_type": "markdown",
   "metadata": {},
   "source": [
    "#### 添加国家信息\n",
    "\n",
    "在位置信息中，最后一个逗号后面为国家名，我们对Location进一步分组。\n",
    "\n",
    "在df_Analyst中生成一个新列'Country'，从Location中，将最后一个逗号后面的值提取出来，作为该列的值。"
   ]
  },
  {
   "cell_type": "code",
   "execution_count": null,
   "metadata": {},
   "outputs": [],
   "source": [
    "# TODO\n",
    "# 生成新列df_Analyst['Country']，其中内容为df_Analyst['Location']中截取最后一个逗号之后的内容\n",
    "df_Analyst['Country'] = None\n",
    "\n",
    "df_Analyst['Country'].value_counts()"
   ]
  },
  {
   "cell_type": "markdown",
   "metadata": {},
   "source": [
    "需求量排在前4的国家都是那些？\n",
    "\n",
    "** 回答 ：**"
   ]
  },
  {
   "cell_type": "markdown",
   "metadata": {},
   "source": [
    "#### 统计数据分析师的语言技能需求\n",
    "\n"
   ]
  },
  {
   "cell_type": "code",
   "execution_count": null,
   "metadata": {},
   "outputs": [],
   "source": [
    "print(all_lang_count(df_Analyst))"
   ]
  },
  {
   "cell_type": "markdown",
   "metadata": {},
   "source": [
    "对于数据分析师，哪种语言的要求最高？\n",
    "\n",
    "** 回答：**"
   ]
  },
  {
   "cell_type": "markdown",
   "metadata": {},
   "source": [
    "#### 透视表\n",
    "\n",
    "构建透视表，探寻不同国家对于数据分析师的工作年限需求。\n",
    "\n",
    "透视表index为二级索引，第一级是国家（'Country'），第二级是职位分类（'Category'）,values是'Minimum_years_experience'。当生成表时出现元素冲突时，定义mean为aggfunc。"
   ]
  },
  {
   "cell_type": "code",
   "execution_count": null,
   "metadata": {},
   "outputs": [],
   "source": [
    "import numpy as np\n",
    "# TODO\n",
    "# 定义透视表category_country，以df_Analyst的Country和Category为二级索引，Minimum_years_experience为value，aggfunc为mean\n",
    "category_country = None\n",
    "\n",
    "category_country"
   ]
  },
  {
   "cell_type": "markdown",
   "metadata": {},
   "source": [
    "中国的职位需求中，其对应的Category是什么？要求的最低工作年限是多少？\n",
    "\n",
    "** 回答：**"
   ]
  }
 ],
 "metadata": {
  "kernelspec": {
   "display_name": "Python 3",
   "language": "python",
   "name": "python3"
  },
  "language_info": {
   "codemirror_mode": {
    "name": "ipython",
    "version": 3
   },
   "file_extension": ".py",
   "mimetype": "text/x-python",
   "name": "python",
   "nbconvert_exporter": "python",
   "pygments_lexer": "ipython3",
   "version": "3.6.8"
  }
 },
 "nbformat": 4,
 "nbformat_minor": 1
}
