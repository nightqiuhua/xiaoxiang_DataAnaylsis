{
 "cells": [
  {
   "cell_type": "markdown",
   "metadata": {
    "collapsed": true
   },
   "source": [
    "# [SVM](http://scikit-learn.org/stable/modules/generated/sklearn.svm.SVC.html)"
   ]
  },
  {
   "cell_type": "markdown",
   "metadata": {},
   "source": [
    "## 0. 加载相关模块"
   ]
  },
  {
   "cell_type": "code",
   "execution_count": 1,
   "metadata": {
    "collapsed": true
   },
   "outputs": [],
   "source": [
    "from sklearn.datasets import load_iris\n",
    "from sklearn.svm import SVC\n",
    "from sklearn.model_selection import train_test_split\n",
    "from sklearn.metrics import accuracy_score\n",
    "\n",
    "# 用于在jupyter中进行绘图\n",
    "%matplotlib inline"
   ]
  },
  {
   "cell_type": "markdown",
   "metadata": {},
   "source": [
    "## 1. 加载数据"
   ]
  },
  {
   "cell_type": "code",
   "execution_count": 2,
   "metadata": {},
   "outputs": [],
   "source": [
    "iris = load_iris()"
   ]
  },
  {
   "cell_type": "markdown",
   "metadata": {
    "collapsed": true
   },
   "source": [
    "### 1.1 数据处理"
   ]
  },
  {
   "cell_type": "code",
   "execution_count": 3,
   "metadata": {},
   "outputs": [
    {
     "name": "stdout",
     "output_type": "stream",
     "text": [
      "数据集样本数：150，训练集样本数：112，测试集样本数：38\n"
     ]
    }
   ],
   "source": [
    "X = iris.data\n",
    "y = iris.target\n",
    "X_train, X_test, y_train, y_test = train_test_split(X, y, test_size=1/4, random_state=0)\n",
    "\n",
    "print('数据集样本数：{}，训练集样本数：{}，测试集样本数：{}'.format(len(X), len(X_train), len(X_test)))"
   ]
  },
  {
   "cell_type": "markdown",
   "metadata": {},
   "source": [
    "## 2. 建立模型"
   ]
  },
  {
   "cell_type": "code",
   "execution_count": 5,
   "metadata": {},
   "outputs": [
    {
     "name": "stdout",
     "output_type": "stream",
     "text": [
      "核函数：linear, C=0.01, 准确率：0.842\n",
      "核函数：linear, C=0.1, 准确率：0.974\n",
      "核函数：linear, C=1, 准确率：0.974\n",
      "核函数：linear, C=10, 准确率：0.974\n",
      "核函数：linear, C=100, 准确率：0.947\n",
      "\n",
      "核函数：rbf, C=0.01, 准确率：0.237\n",
      "核函数：rbf, C=0.1, 准确率：0.947\n",
      "核函数：rbf, C=1, 准确率：0.974\n",
      "核函数：rbf, C=10, 准确率：0.974\n",
      "核函数：rbf, C=100, 准确率：0.974\n",
      "\n"
     ]
    }
   ],
   "source": [
    "# 核函数\n",
    "kernel_funcs = ['linear', 'rbf']\n",
    "\n",
    "# 正则项系数\n",
    "c_vals = [0.01, 0.1, 1, 10, 100]\n",
    "\n",
    "for kernel_func in kernel_funcs:\n",
    "    for c_val in c_vals:\n",
    "        svm_model = SVC(kernel=kernel_func, C=c_val)\n",
    "        svm_model.fit(X_train, y_train)\n",
    "        acc = svm_model.score(X_test, y_test)\n",
    "        \n",
    "        print('核函数：{}, C={}, 准确率：{:.3f}'.format(kernel_func, c_val, acc))\n",
    "    print()    "
   ]
  }
 ],
 "metadata": {
  "kernelspec": {
   "display_name": "Python 3",
   "language": "python",
   "name": "python3"
  },
  "language_info": {
   "codemirror_mode": {
    "name": "ipython",
    "version": 3
   },
   "file_extension": ".py",
   "mimetype": "text/x-python",
   "name": "python",
   "nbconvert_exporter": "python",
   "pygments_lexer": "ipython3",
   "version": "3.6.8"
  }
 },
 "nbformat": 4,
 "nbformat_minor": 2
}
